{
 "cells": [
  {
   "cell_type": "code",
   "execution_count": 3,
   "metadata": {},
   "outputs": [],
   "source": [
    "# imports an stuff\n",
    "import torch\n",
    "import torch.nn as nn\n",
    "import torch.optim as optim\n",
    "from torchvision import datasets, transforms\n",
    "from torch.utils.data import DataLoader, random_split\n",
    "\n",
    "import numpy as np\n",
    "\n",
    "import matplotlib.pyplot as plt\n",
    "%matplotlib inline\n",
    "plt.rcParams[\"figure.figsize\"] = (10.0, 8.0)  # set default size of plots"
   ]
  },
  {
   "cell_type": "code",
   "execution_count": 4,
   "metadata": {},
   "outputs": [
    {
     "name": "stdout",
     "output_type": "stream",
     "text": [
      "/Users/matteop/Desktop/ECE176/FinalProject/LandmarkClassifier-main\n",
      "Number of training samples: 922\n",
      "Number of validation samples: 396\n"
     ]
    }
   ],
   "source": [
    "# transformations for the training data with augmentation\n",
    "train_transformations = transforms.Compose([\n",
    "    transforms.RandomHorizontalFlip(), \n",
    "    transforms.RandomRotation(10), \n",
    "    transforms.ColorJitter(brightness=0.2, contrast=0.2, saturation=0.2, hue=0.1),\n",
    "    transforms.ToTensor(),\n",
    "    transforms.Normalize((0.5, 0.5, 0.5), (0.5, 0.5, 0.5))\n",
    "])\n",
    "\n",
    "val_test_transformations = transforms.Compose([\n",
    "    transforms.ToTensor(), \n",
    "    transforms.Normalize((0.5, 0.5, 0.5), (0.5, 0.5, 0.5))\n",
    "])\n",
    "\n",
    "# batch size and number of labels\n",
    "batch_size = 64\n",
    "num_labels = 12\n",
    "\n",
    "# Directory with data\n",
    "%cd ~/Desktop/ECE176/FinalProject/LandmarkClassifier-main\n",
    "dataset_path = './data'\n",
    "\n",
    "# Load dataset\n",
    "dataset = datasets.ImageFolder(root=dataset_path)\n",
    "\n",
    "# split data\n",
    "total_size = len(dataset)\n",
    "train_size = int(0.7 * total_size)\n",
    "val_size = total_size - train_size\n",
    "# split dataset\n",
    "train_dataset, val_dataset = random_split(dataset, [train_size, val_size])\n",
    "\n",
    "# apply transformations\n",
    "train_dataset.dataset.transform = train_transformations\n",
    "val_dataset.dataset.transform = val_test_transformations\n",
    "\n",
    "# create data loaders\n",
    "train_loader = DataLoader(train_dataset, batch_size=batch_size, shuffle=True)\n",
    "val_loader = DataLoader(val_dataset, batch_size=batch_size, shuffle=False)\n",
    "\n",
    "# display sizes\n",
    "print(f'Number of training samples: {len(train_dataset)}')\n",
    "print(f'Number of validation samples: {len(val_dataset)}')\n"
   ]
  },
  {
   "cell_type": "code",
   "execution_count": 5,
   "metadata": {},
   "outputs": [
    {
     "name": "stdout",
     "output_type": "stream",
     "text": [
      "using device: cpu\n"
     ]
    }
   ],
   "source": [
    "# check if GPU is available\n",
    "USE_GPU = True\n",
    "dtype = torch.float32\n",
    "\n",
    "if USE_GPU and torch.cuda.is_available():\n",
    "    device = torch.device('cuda')\n",
    "else:\n",
    "    device = torch.device('cpu')\n",
    "\n",
    "print('using device:', device)"
   ]
  },
  {
   "cell_type": "code",
   "execution_count": 6,
   "metadata": {},
   "outputs": [],
   "source": [
    "# test the model on the validation set\n",
    "def testVal(loader, model): \n",
    "    num_correct = 0\n",
    "    num_samples = 0\n",
    "    model.eval()  \n",
    "\n",
    "    with torch.no_grad():\n",
    "        for images, labels in loader:\n",
    "            images = images.to(device=device, dtype=dtype)\n",
    "            labels = labels.to(device=device, dtype=torch.long)\n",
    "            scores = model(images)\n",
    "            _, predicted = scores.max(1)\n",
    "            num_correct += (predicted == labels).sum()\n",
    "            num_samples += predicted.size(0)\n",
    "    \n",
    "        acc = float(num_correct) / num_samples\n",
    "        print('Got %d / %d correct (%.2f)' % (num_correct, num_samples, 100 * acc))"
   ]
  },
  {
   "cell_type": "code",
   "execution_count": 7,
   "metadata": {},
   "outputs": [],
   "source": [
    "# traiin model\n",
    "def train(model, optimizer, num_epochs=1):\n",
    "    model = model.to(device=device)\n",
    "    train_losses = []\n",
    "    val_losses = []\n",
    "\n",
    "    for epoch in range(num_epochs):\n",
    "        train_loss = 0.0\n",
    "        val_loss = 0.0\n",
    "\n",
    "        # get training accuracy over epochs\n",
    "        for i, (images, labels) in enumerate(train_loader):\n",
    "            model.train()\n",
    "            images = images.to(device=device, dtype=dtype) \n",
    "            labels = labels.to(device=device, dtype=torch.long)\n",
    "\n",
    "            scores = model(images)\n",
    "            loss_t = loss_fn(scores, labels)\n",
    "            train_loss += loss_t.item()\n",
    "            if i == len(train_loader) - 1:\n",
    "                print('Epoch %d/%d, Training Loss = %.4f' % (epoch+1, num_epochs, loss_t.item()))\n",
    "\n",
    "            optimizer.zero_grad()\n",
    "            loss_t.backward()\n",
    "            optimizer.step()\n",
    "        \n",
    "        train_losses.append(train_loss / len(train_loader))\n",
    "\n",
    "        # get validation accuracy over epochs\n",
    "        model.eval()\n",
    "        with torch.no_grad():\n",
    "            for images, labels in val_loader:\n",
    "                images = images.to(device=device, dtype=dtype)\n",
    "                labels = labels.to(device=device, dtype=torch.long)\n",
    "                scores = model(images)\n",
    "                loss_v = loss_fn(scores, labels)\n",
    "\n",
    "                val_loss += loss_v.item()\n",
    "\n",
    "        val_losses.append(val_loss / len(val_loader))\n",
    "        \n",
    "\n",
    "    return train_losses, val_losses"
   ]
  },
  {
   "cell_type": "code",
   "execution_count": 8,
   "metadata": {},
   "outputs": [],
   "source": [
    "def flatten(x):\n",
    "    N = x.shape[0]\n",
    "    return x.view(N, -1)\n",
    "\n",
    "class AlexNet(nn.Module):\n",
    "    def __init__(self, num_classes):\n",
    "        super(AlexNet, self).__init__()\n",
    "        self.features = nn.Sequential(\n",
    "            nn.Conv2d(3, 64, kernel_size=5, stride=1, padding=1),\n",
    "            nn.BatchNorm2d(64),\n",
    "            nn.ReLU(inplace=True),\n",
    "            nn.MaxPool2d(kernel_size=2, stride=2),\n",
    "\n",
    "            nn.Conv2d(64, 128, kernel_size=3, padding=1),\n",
    "            nn.BatchNorm2d(128),\n",
    "            nn.ReLU(inplace=True),\n",
    "            nn.MaxPool2d(kernel_size=2, stride=2),\n",
    "\n",
    "            nn.Conv2d(128, 128, kernel_size=3, padding=1),\n",
    "            nn.BatchNorm2d(128),\n",
    "            nn.ReLU(inplace=True),\n",
    "            nn.MaxPool2d(kernel_size=2, stride=2),\n",
    "        )\n",
    "\n",
    "        self.avgpool = nn.AdaptiveAvgPool2d((4, 4))\n",
    "\n",
    "        self.classifier = nn.Sequential(\n",
    "            nn.Linear(128 * 4 * 4, 1024),\n",
    "            nn.ReLU(inplace=True),\n",
    "            nn.Dropout(0.5),\n",
    "            nn.Linear(1024, num_classes),\n",
    "        )\n",
    "\n",
    "    def forward(self, x):\n",
    "        x = self.features(x)\n",
    "        x = self.avgpool(x)\n",
    "        x = flatten(x)\n",
    "        x = self.classifier(x)\n",
    "        return x"
   ]
  },
  {
   "cell_type": "code",
   "execution_count": 9,
   "metadata": {},
   "outputs": [],
   "source": [
    "# setup model and optimizer\n",
    "loss_fn = nn.CrossEntropyLoss()\n",
    "\n",
    "model = AlexNet(num_labels)\n",
    "optimizer = optim.Adam(model.parameters(), lr=0.001, weight_decay=0.0001)"
   ]
  },
  {
   "cell_type": "code",
   "execution_count": 10,
   "metadata": {},
   "outputs": [
    {
     "name": "stdout",
     "output_type": "stream",
     "text": [
      "Epoch 1/20, Training Loss = 1.8515\n",
      "Epoch 2/20, Training Loss = 1.6933\n",
      "Epoch 3/20, Training Loss = 1.7375\n",
      "Epoch 4/20, Training Loss = 1.6524\n",
      "Epoch 5/20, Training Loss = 1.4340\n",
      "Epoch 6/20, Training Loss = 1.0192\n",
      "Epoch 7/20, Training Loss = 1.3262\n",
      "Epoch 8/20, Training Loss = 0.8566\n",
      "Epoch 9/20, Training Loss = 0.9871\n",
      "Epoch 10/20, Training Loss = 0.5655\n",
      "Epoch 11/20, Training Loss = 0.6383\n",
      "Epoch 12/20, Training Loss = 0.5216\n",
      "Epoch 13/20, Training Loss = 0.4568\n",
      "Epoch 14/20, Training Loss = 0.5859\n",
      "Epoch 15/20, Training Loss = 0.4416\n",
      "Epoch 16/20, Training Loss = 0.4395\n",
      "Epoch 17/20, Training Loss = 0.7827\n",
      "Epoch 18/20, Training Loss = 0.5792\n",
      "Epoch 19/20, Training Loss = 0.2836\n",
      "Epoch 20/20, Training Loss = 0.1615\n",
      "Finished Training\n"
     ]
    }
   ],
   "source": [
    "# train model and get training and validation losses\n",
    "train_loss, val_loss = train(model, optimizer, num_epochs=20)\n",
    "print('Finished Training')"
   ]
  },
  {
   "cell_type": "code",
   "execution_count": 11,
   "metadata": {
    "scrolled": true
   },
   "outputs": [
    {
     "data": {
      "image/png": "[encoded data removed]",
      "text/plain": [
       "<Figure size 1000x800 with 1 Axes>"
      ]
     },
     "metadata": {},
     "output_type": "display_data"
    }
   ],
   "source": [
    "# plot the training and validation losses to check for overfitting\n",
    "plt.plot(train_loss, label='Training loss')\n",
    "plt.plot(val_loss, label='Validation loss')\n",
    "plt.legend()\n",
    "plt.title('Training and Validation Losses')\n",
    "plt.xlabel('Epoch')\n",
    "plt.ylabel('Loss')\n",
    "plt.show()"
   ]
  },
  {
   "cell_type": "code",
   "execution_count": 12,
   "metadata": {
    "scrolled": true
   },
   "outputs": [
    {
     "name": "stdout",
     "output_type": "stream",
     "text": [
      "Validation Set Accuracy\n",
      "Got 288 / 396 correct (72.73)\n"
     ]
    }
   ],
   "source": [
    "print('Validation Set Accuracy')\n",
    "testVal(val_loader, model)"
   ]
  }
 ],
 "metadata": {
  "kernelspec": {
   "display_name": "Python 3 (ipykernel)",
   "language": "python",
   "name": "python3"
  },
  "language_info": {
   "codemirror_mode": {
    "name": "ipython",
    "version": 3
   },
   "file_extension": ".py",
   "mimetype": "text/x-python",
   "name": "python",
   "nbconvert_exporter": "python",
   "pygments_lexer": "ipython3",
   "version": "3.11.5"
  }
 },
 "nbformat": 4,
 "nbformat_minor": 2
}
