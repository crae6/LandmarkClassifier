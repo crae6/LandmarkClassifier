{
 "cells": [
  {
   "cell_type": "code",
   "execution_count": 11,
   "metadata": {},
   "outputs": [],
   "source": [
    "# imports an stuff\n",
    "import torch\n",
    "import torch.nn as nn\n",
    "import torch.optim as optim\n",
    "from torchvision import datasets, transforms\n",
    "from torch.utils.data import DataLoader, random_split\n",
    "from random import choice\n",
    "import numpy as np\n",
    "\n",
    "import matplotlib.pyplot as plt\n",
    "%matplotlib inline\n",
    "plt.rcParams[\"figure.figsize\"] = (15.0, 6.0)  # set default size of plots"
   ]
  },
  {
   "cell_type": "code",
   "execution_count": 12,
   "metadata": {},
   "outputs": [
    {
     "name": "stdout",
     "output_type": "stream",
     "text": [
      "Number of training samples: 1658\n",
      "Number of validation samples: 415\n"
     ]
    }
   ],
   "source": [
    "class RandomApplyTransform:\n",
    "    def __init__(self, transforms):\n",
    "        self.transforms = transforms\n",
    "\n",
    "    def __call__(self, img):\n",
    "        transform = choice(self.transforms)\n",
    "        return transform(img)\n",
    "    \n",
    "# transformations for the training data with augmentation\n",
    "train_transformations1 = transforms.Compose([\n",
    "    transforms.RandomResizedCrop(256, scale=(0.7, 1.0)),\n",
    "    transforms.Resize((256, 256)),\n",
    "    transforms.ToTensor(),\n",
    "    transforms.Normalize((0.5, 0.5, 0.5), (0.5, 0.5, 0.5))\n",
    "])\n",
    "\n",
    "train_transformations2 = transforms.Compose([\n",
    "    transforms.RandomResizedCrop(256, scale=(0.85, 1.0)),\n",
    "    transforms.ColorJitter(brightness=0.1, contrast=0.1, saturation=0.1, hue=0.05),\n",
    "    transforms.Resize((256, 256)),\n",
    "    transforms.ToTensor(),\n",
    "    transforms.Normalize((0.5, 0.5, 0.5), (0.5, 0.5, 0.5))\n",
    "])\n",
    "\n",
    "train_transformations3 = transforms.Compose([\n",
    "    transforms.RandomHorizontalFlip(),\n",
    "    transforms.RandomRotation(10),\n",
    "    transforms.ColorJitter(brightness=0.2, contrast=0.2, saturation=0.2, hue=0.1),\n",
    "    transforms.ToTensor(),\n",
    "    transforms.Normalize((0.5, 0.5, 0.5), (0.5, 0.5, 0.5))\n",
    "])\n",
    "\n",
    "# choose a random transformation\n",
    "train_transformations = RandomApplyTransform([train_transformations1, train_transformations2, train_transformations3])\n",
    "\n",
    "val_test_transformations = transforms.Compose([\n",
    "    transforms.ToTensor(), \n",
    "    transforms.Normalize((0.5, 0.5, 0.5), (0.5, 0.5, 0.5))\n",
    "])\n",
    "\n",
    "# batch size and number of labels\n",
    "batch_size = 64\n",
    "num_labels = 12\n",
    "\n",
    "# Directory with data\n",
    "dataset_path = '../data2'\n",
    "\n",
    "# Load dataset\n",
    "dataset = datasets.ImageFolder(root=dataset_path)\n",
    "\n",
    "# split data\n",
    "total_size = len(dataset)\n",
    "train_size = int(0.8 * total_size)\n",
    "val_size = total_size - train_size\n",
    "# split dataset\n",
    "train_dataset, val_dataset = random_split(dataset, [train_size, val_size])\n",
    "\n",
    "# apply transformations\n",
    "train_dataset.dataset.transform = train_transformations\n",
    "val_dataset.dataset.transform = val_test_transformations\n",
    "\n",
    "# create data loaders\n",
    "train_loader = DataLoader(train_dataset, batch_size=batch_size, shuffle=True)\n",
    "val_loader = DataLoader(val_dataset, batch_size=batch_size, shuffle=False)\n",
    "\n",
    "# display sizes\n",
    "print(f'Number of training samples: {len(train_dataset)}')\n",
    "print(f'Number of validation samples: {len(val_dataset)}')\n"
   ]
  },
  {
   "cell_type": "code",
   "execution_count": 13,
   "metadata": {},
   "outputs": [
    {
     "name": "stdout",
     "output_type": "stream",
     "text": [
      "using device: cuda\n"
     ]
    }
   ],
   "source": [
    "# check if GPU is available\n",
    "USE_GPU = True\n",
    "dtype = torch.float32\n",
    "\n",
    "if USE_GPU and torch.cuda.is_available():\n",
    "    device = torch.device('cuda')\n",
    "else:\n",
    "    device = torch.device('cpu')\n",
    "\n",
    "print('using device:', device)"
   ]
  },
  {
   "cell_type": "code",
   "execution_count": 14,
   "metadata": {},
   "outputs": [],
   "source": [
    "# test the model on the validation set\n",
    "def testVal(loader, model): \n",
    "    num_correct = 0\n",
    "    num_samples = 0\n",
    "    model.eval()  \n",
    "\n",
    "    with torch.no_grad():\n",
    "        for images, labels in loader:\n",
    "            images = images.to(device=device, dtype=dtype)\n",
    "            labels = labels.to(device=device, dtype=torch.long)\n",
    "            scores = model(images)\n",
    "            _, predicted = scores.max(1)\n",
    "            num_correct += (predicted == labels).sum()\n",
    "            num_samples += predicted.size(0)\n",
    "    \n",
    "        acc = float(num_correct) / num_samples\n",
    "        print('Got %d / %d correct (%.2f)' % (num_correct, num_samples, 100 * acc))"
   ]
  },
  {
   "cell_type": "code",
   "execution_count": 15,
   "metadata": {},
   "outputs": [],
   "source": [
    "def train(model, optimizer, num_epochs=1):\n",
    "    model = model.to(device)\n",
    "    train_losses = []\n",
    "    val_losses = []\n",
    "    train_accuracies = []\n",
    "    val_accuracies = []\n",
    "\n",
    "    for epoch in range(num_epochs):\n",
    "        model.train()\n",
    "        train_loss = 0.0\n",
    "        correct_train = 0\n",
    "        total_train = 0\n",
    "        \n",
    "        for images, labels in train_loader:\n",
    "            images = images.to(device=device, dtype=dtype)\n",
    "            labels = labels.to(device=device, dtype=torch.long)\n",
    "\n",
    "            optimizer.zero_grad()\n",
    "            scores = model(images)\n",
    "            loss = loss_fn(scores, labels)\n",
    "            loss.backward()\n",
    "            optimizer.step()\n",
    "\n",
    "            train_loss += loss.item()\n",
    "            _, predicted = scores.max(1)\n",
    "            total_train += labels.size(0)\n",
    "            correct_train += predicted.eq(labels).sum().item()\n",
    "\n",
    "        av_train_loss = train_loss / len(train_loader)\n",
    "        train_accuracy = 100. * correct_train / total_train\n",
    "        train_losses.append(av_train_loss)\n",
    "        train_accuracies.append(train_accuracy)\n",
    "\n",
    "        model.eval()\n",
    "        val_loss = 0.0\n",
    "        correct_val = 0\n",
    "        total_val = 0\n",
    "        with torch.no_grad():\n",
    "            for images, labels in val_loader:\n",
    "                images = images.to(device=device, dtype=dtype)\n",
    "                labels = labels.to(device=device, dtype=torch.long)\n",
    "                scores = model(images)\n",
    "                loss = loss_fn(scores, labels)\n",
    "                val_loss += loss.item()\n",
    "\n",
    "                _, predicted = scores.max(1)\n",
    "                total_val += labels.size(0)\n",
    "                correct_val += predicted.eq(labels).sum().item()\n",
    "\n",
    "        av_val_loss = val_loss / len(val_loader)\n",
    "        val_accuracy = 100. * correct_val / total_val\n",
    "        val_losses.append(av_val_loss)\n",
    "        val_accuracies.append(val_accuracy)\n",
    "\n",
    "        print(f'Epoch {epoch+1}/{num_epochs}, Training Loss: {av_train_loss:.4f}, Training Accuracy: {train_accuracy:.2f}%, Validation Loss: {av_val_loss:.4f}, Validation Accuracy: {val_accuracy:.2f}%')\n",
    "\n",
    "    return train_losses, val_losses, train_accuracies, val_accuracies\n"
   ]
  },
  {
   "cell_type": "code",
   "execution_count": 16,
   "metadata": {},
   "outputs": [],
   "source": [
    "def flatten(x):\n",
    "    N = x.shape[0]\n",
    "    return x.view(N, -1)\n",
    "\n",
    "class AlexNet(nn.Module):\n",
    "    def __init__(self, num_classes):\n",
    "        super(AlexNet, self).__init__()\n",
    "        self.features = nn.Sequential(\n",
    "            nn.Conv2d(3, 64, kernel_size=5, stride=1, padding=1),\n",
    "            nn.BatchNorm2d(64),\n",
    "            nn.ReLU(inplace=True),\n",
    "            nn.MaxPool2d(kernel_size=2, stride=2),\n",
    "\n",
    "            nn.Conv2d(64, 128, kernel_size=3, padding=1),\n",
    "            nn.BatchNorm2d(128),\n",
    "            nn.ReLU(inplace=True),\n",
    "            nn.MaxPool2d(kernel_size=2, stride=2),\n",
    "\n",
    "            nn.Conv2d(128, 128, kernel_size=3, padding=1),\n",
    "            nn.BatchNorm2d(128),\n",
    "            nn.ReLU(inplace=True),\n",
    "            nn.MaxPool2d(kernel_size=2, stride=2),\n",
    "        )\n",
    "\n",
    "        self.avgpool = nn.AdaptiveAvgPool2d((4, 4))\n",
    "\n",
    "        self.classifier = nn.Sequential(\n",
    "            nn.Linear(128 * 4 * 4, 1024),\n",
    "            nn.ReLU(inplace=True),\n",
    "            nn.Dropout(0.5),\n",
    "            nn.Linear(1024, num_classes),\n",
    "        )\n",
    "\n",
    "    def forward(self, x):\n",
    "        x = self.features(x)\n",
    "        x = self.avgpool(x)\n",
    "        x = flatten(x)\n",
    "        x = self.classifier(x)\n",
    "        return x"
   ]
  },
  {
   "cell_type": "code",
   "execution_count": 17,
   "metadata": {},
   "outputs": [],
   "source": [
    "# setup model and optimizer\n",
    "loss_fn = nn.CrossEntropyLoss()\n",
    "\n",
    "model = AlexNet(num_labels)\n",
    "optimizer = optim.Adam(model.parameters(), lr=0.0001, weight_decay=0.0001)"
   ]
  },
  {
   "cell_type": "code",
   "execution_count": 25,
   "metadata": {},
   "outputs": [
    {
     "name": "stdout",
     "output_type": "stream",
     "text": [
      "Epoch 1/100, Training Loss: 2.1197, Training Accuracy: 31.18%, Validation Loss: 2.2874, Validation Accuracy: 19.52%\n",
      "Epoch 2/100, Training Loss: 1.6689, Training Accuracy: 48.01%, Validation Loss: 1.7430, Validation Accuracy: 43.86%\n",
      "Epoch 3/100, Training Loss: 1.4576, Training Accuracy: 54.89%, Validation Loss: 1.5362, Validation Accuracy: 53.49%\n",
      "Epoch 4/100, Training Loss: 1.2907, Training Accuracy: 60.68%, Validation Loss: 1.3622, Validation Accuracy: 60.00%\n",
      "Epoch 5/100, Training Loss: 1.1925, Training Accuracy: 63.81%, Validation Loss: 1.2968, Validation Accuracy: 60.72%\n",
      "Epoch 6/100, Training Loss: 1.0905, Training Accuracy: 67.37%, Validation Loss: 1.2131, Validation Accuracy: 62.17%\n",
      "Epoch 7/100, Training Loss: 1.0186, Training Accuracy: 69.30%, Validation Loss: 1.2817, Validation Accuracy: 60.96%\n",
      "Epoch 8/100, Training Loss: 0.9426, Training Accuracy: 71.65%, Validation Loss: 1.0740, Validation Accuracy: 68.19%\n",
      "Epoch 9/100, Training Loss: 0.9039, Training Accuracy: 72.86%, Validation Loss: 1.1087, Validation Accuracy: 65.54%\n",
      "Epoch 10/100, Training Loss: 0.8605, Training Accuracy: 73.40%, Validation Loss: 1.0525, Validation Accuracy: 69.16%\n",
      "Epoch 11/100, Training Loss: 0.8087, Training Accuracy: 74.97%, Validation Loss: 1.0260, Validation Accuracy: 69.40%\n",
      "Epoch 12/100, Training Loss: 0.7669, Training Accuracy: 76.36%, Validation Loss: 1.0341, Validation Accuracy: 70.12%\n",
      "Epoch 13/100, Training Loss: 0.7344, Training Accuracy: 78.05%, Validation Loss: 1.0256, Validation Accuracy: 68.43%\n",
      "Epoch 14/100, Training Loss: 0.7054, Training Accuracy: 78.89%, Validation Loss: 0.9960, Validation Accuracy: 70.12%\n",
      "Epoch 15/100, Training Loss: 0.6777, Training Accuracy: 78.95%, Validation Loss: 0.9580, Validation Accuracy: 71.57%\n",
      "Epoch 16/100, Training Loss: 0.6495, Training Accuracy: 80.76%, Validation Loss: 0.9611, Validation Accuracy: 73.01%\n",
      "Epoch 17/100, Training Loss: 0.6454, Training Accuracy: 80.46%, Validation Loss: 0.9293, Validation Accuracy: 72.29%\n",
      "Epoch 18/100, Training Loss: 0.6194, Training Accuracy: 80.94%, Validation Loss: 0.9528, Validation Accuracy: 70.60%\n",
      "Epoch 19/100, Training Loss: 0.5750, Training Accuracy: 82.15%, Validation Loss: 1.0108, Validation Accuracy: 71.08%\n",
      "Epoch 20/100, Training Loss: 0.5618, Training Accuracy: 83.17%, Validation Loss: 0.9531, Validation Accuracy: 70.12%\n",
      "Epoch 21/100, Training Loss: 0.5475, Training Accuracy: 83.53%, Validation Loss: 0.9566, Validation Accuracy: 71.81%\n",
      "Epoch 28/100, Training Loss: 0.3938, Training Accuracy: 89.38%, Validation Loss: 0.9046, Validation Accuracy: 73.01%\n",
      "Epoch 29/100, Training Loss: 0.3991, Training Accuracy: 88.00%, Validation Loss: 0.8719, Validation Accuracy: 74.70%\n",
      "Epoch 30/100, Training Loss: 0.3834, Training Accuracy: 90.29%, Validation Loss: 0.8615, Validation Accuracy: 73.98%\n",
      "Epoch 31/100, Training Loss: 0.3811, Training Accuracy: 88.66%, Validation Loss: 0.9049, Validation Accuracy: 72.77%\n",
      "Epoch 32/100, Training Loss: 0.3508, Training Accuracy: 90.35%, Validation Loss: 0.8543, Validation Accuracy: 75.66%\n",
      "Epoch 33/100, Training Loss: 0.3404, Training Accuracy: 91.19%, Validation Loss: 0.8928, Validation Accuracy: 75.42%\n",
      "Epoch 34/100, Training Loss: 0.3219, Training Accuracy: 91.19%, Validation Loss: 0.9366, Validation Accuracy: 71.57%\n",
      "Epoch 35/100, Training Loss: 0.3033, Training Accuracy: 91.25%, Validation Loss: 0.8626, Validation Accuracy: 75.42%\n",
      "Epoch 36/100, Training Loss: 0.2922, Training Accuracy: 91.38%, Validation Loss: 0.8455, Validation Accuracy: 75.90%\n",
      "Epoch 37/100, Training Loss: 0.3082, Training Accuracy: 91.38%, Validation Loss: 0.8165, Validation Accuracy: 76.87%\n",
      "Epoch 38/100, Training Loss: 0.2841, Training Accuracy: 92.16%, Validation Loss: 0.8635, Validation Accuracy: 74.22%\n",
      "Epoch 39/100, Training Loss: 0.2886, Training Accuracy: 91.25%, Validation Loss: 0.9057, Validation Accuracy: 75.42%\n",
      "Epoch 40/100, Training Loss: 0.2749, Training Accuracy: 93.06%, Validation Loss: 0.8289, Validation Accuracy: 77.35%\n",
      "Epoch 41/100, Training Loss: 0.2694, Training Accuracy: 92.22%, Validation Loss: 0.9066, Validation Accuracy: 75.18%\n",
      "Epoch 42/100, Training Loss: 0.2404, Training Accuracy: 93.79%, Validation Loss: 0.8257, Validation Accuracy: 75.42%\n",
      "Epoch 43/100, Training Loss: 0.2283, Training Accuracy: 94.63%, Validation Loss: 0.8055, Validation Accuracy: 76.87%\n",
      "Epoch 44/100, Training Loss: 0.2258, Training Accuracy: 94.57%, Validation Loss: 0.8928, Validation Accuracy: 76.63%\n",
      "Epoch 45/100, Training Loss: 0.2120, Training Accuracy: 94.87%, Validation Loss: 0.8553, Validation Accuracy: 76.39%\n",
      "Epoch 46/100, Training Loss: 0.2037, Training Accuracy: 95.36%, Validation Loss: 0.8447, Validation Accuracy: 75.42%\n",
      "Epoch 47/100, Training Loss: 0.2121, Training Accuracy: 94.63%, Validation Loss: 0.9354, Validation Accuracy: 74.46%\n",
      "Epoch 48/100, Training Loss: 0.2108, Training Accuracy: 94.99%, Validation Loss: 0.8492, Validation Accuracy: 76.63%\n",
      "Epoch 49/100, Training Loss: 0.1926, Training Accuracy: 95.72%, Validation Loss: 0.8738, Validation Accuracy: 76.39%\n",
      "Epoch 50/100, Training Loss: 0.1869, Training Accuracy: 95.11%, Validation Loss: 0.8316, Validation Accuracy: 76.39%\n",
      "Epoch 51/100, Training Loss: 0.1703, Training Accuracy: 96.56%, Validation Loss: 0.9257, Validation Accuracy: 74.46%\n",
      "Epoch 52/100, Training Loss: 0.1730, Training Accuracy: 95.84%, Validation Loss: 0.8625, Validation Accuracy: 77.35%\n",
      "Epoch 53/100, Training Loss: 0.1527, Training Accuracy: 96.86%, Validation Loss: 0.8429, Validation Accuracy: 77.35%\n",
      "Epoch 54/100, Training Loss: 0.1411, Training Accuracy: 97.17%, Validation Loss: 0.8842, Validation Accuracy: 77.35%\n",
      "Epoch 55/100, Training Loss: 0.1403, Training Accuracy: 97.29%, Validation Loss: 0.8359, Validation Accuracy: 76.87%\n",
      "Epoch 56/100, Training Loss: 0.1454, Training Accuracy: 96.92%, Validation Loss: 0.8265, Validation Accuracy: 79.04%\n",
      "Epoch 57/100, Training Loss: 0.1415, Training Accuracy: 96.92%, Validation Loss: 0.8450, Validation Accuracy: 78.55%\n",
      "Epoch 58/100, Training Loss: 0.1284, Training Accuracy: 97.65%, Validation Loss: 0.8377, Validation Accuracy: 77.83%\n",
      "Epoch 59/100, Training Loss: 0.1210, Training Accuracy: 97.89%, Validation Loss: 0.8542, Validation Accuracy: 78.07%\n",
      "Epoch 60/100, Training Loss: 0.1097, Training Accuracy: 98.67%, Validation Loss: 0.8567, Validation Accuracy: 76.63%\n",
      "Epoch 61/100, Training Loss: 0.1108, Training Accuracy: 98.43%, Validation Loss: 0.8639, Validation Accuracy: 77.11%\n",
      "Epoch 62/100, Training Loss: 0.1167, Training Accuracy: 97.95%, Validation Loss: 0.8833, Validation Accuracy: 76.87%\n",
      "Epoch 63/100, Training Loss: 0.1014, Training Accuracy: 98.49%, Validation Loss: 0.8701, Validation Accuracy: 77.83%\n",
      "Epoch 64/100, Training Loss: 0.0934, Training Accuracy: 98.37%, Validation Loss: 0.8869, Validation Accuracy: 76.63%\n",
      "Epoch 65/100, Training Loss: 0.0924, Training Accuracy: 98.37%, Validation Loss: 0.8645, Validation Accuracy: 78.55%\n",
      "Epoch 66/100, Training Loss: 0.1012, Training Accuracy: 98.13%, Validation Loss: 0.8533, Validation Accuracy: 78.55%\n",
      "Epoch 67/100, Training Loss: 0.0929, Training Accuracy: 98.43%, Validation Loss: 0.8680, Validation Accuracy: 78.07%\n",
      "Epoch 68/100, Training Loss: 0.0821, Training Accuracy: 99.03%, Validation Loss: 0.8833, Validation Accuracy: 78.31%\n",
      "Epoch 69/100, Training Loss: 0.0740, Training Accuracy: 99.22%, Validation Loss: 0.8701, Validation Accuracy: 78.80%\n",
      "Epoch 70/100, Training Loss: 0.0851, Training Accuracy: 98.73%, Validation Loss: 0.8995, Validation Accuracy: 77.35%\n",
      "Epoch 71/100, Training Loss: 0.0767, Training Accuracy: 98.91%, Validation Loss: 1.0297, Validation Accuracy: 73.73%\n",
      "Epoch 72/100, Training Loss: 0.0750, Training Accuracy: 98.73%, Validation Loss: 0.8980, Validation Accuracy: 77.59%\n",
      "Epoch 73/100, Training Loss: 0.0757, Training Accuracy: 98.85%, Validation Loss: 0.8972, Validation Accuracy: 78.55%\n",
      "Epoch 74/100, Training Loss: 0.0789, Training Accuracy: 98.73%, Validation Loss: 0.8908, Validation Accuracy: 78.55%\n",
      "Epoch 75/100, Training Loss: 0.0624, Training Accuracy: 99.52%, Validation Loss: 0.8832, Validation Accuracy: 77.11%\n",
      "Epoch 76/100, Training Loss: 0.0642, Training Accuracy: 99.28%, Validation Loss: 0.9489, Validation Accuracy: 77.35%\n",
      "Epoch 77/100, Training Loss: 0.0658, Training Accuracy: 99.28%, Validation Loss: 0.8894, Validation Accuracy: 77.11%\n"
     ]
    },
    {
     "name": "stdout",
     "output_type": "stream",
     "text": [
      "Epoch 78/100, Training Loss: 0.0607, Training Accuracy: 99.64%, Validation Loss: 0.9085, Validation Accuracy: 78.55%\n",
      "Epoch 79/100, Training Loss: 0.0563, Training Accuracy: 99.40%, Validation Loss: 0.8778, Validation Accuracy: 78.80%\n",
      "Epoch 80/100, Training Loss: 0.0607, Training Accuracy: 98.97%, Validation Loss: 0.8879, Validation Accuracy: 78.07%\n",
      "Epoch 81/100, Training Loss: 0.0481, Training Accuracy: 99.46%, Validation Loss: 0.8838, Validation Accuracy: 78.31%\n",
      "Epoch 82/100, Training Loss: 0.0453, Training Accuracy: 99.70%, Validation Loss: 0.8769, Validation Accuracy: 79.28%\n",
      "Epoch 83/100, Training Loss: 0.0439, Training Accuracy: 99.70%, Validation Loss: 0.8723, Validation Accuracy: 78.55%\n",
      "Epoch 84/100, Training Loss: 0.0481, Training Accuracy: 99.34%, Validation Loss: 0.8863, Validation Accuracy: 79.76%\n",
      "Epoch 85/100, Training Loss: 0.0554, Training Accuracy: 99.16%, Validation Loss: 0.8815, Validation Accuracy: 78.07%\n",
      "Epoch 86/100, Training Loss: 0.0467, Training Accuracy: 99.58%, Validation Loss: 0.9148, Validation Accuracy: 79.52%\n",
      "Epoch 87/100, Training Loss: 0.0469, Training Accuracy: 99.64%, Validation Loss: 0.9168, Validation Accuracy: 79.04%\n",
      "Epoch 88/100, Training Loss: 0.0458, Training Accuracy: 99.64%, Validation Loss: 0.9077, Validation Accuracy: 78.07%\n",
      "Epoch 89/100, Training Loss: 0.0381, Training Accuracy: 99.58%, Validation Loss: 0.9531, Validation Accuracy: 77.83%\n",
      "Epoch 90/100, Training Loss: 0.0389, Training Accuracy: 99.70%, Validation Loss: 0.8897, Validation Accuracy: 79.76%\n",
      "Epoch 91/100, Training Loss: 0.0497, Training Accuracy: 99.46%, Validation Loss: 1.0357, Validation Accuracy: 77.11%\n",
      "Epoch 92/100, Training Loss: 0.0393, Training Accuracy: 99.58%, Validation Loss: 0.8815, Validation Accuracy: 79.52%\n",
      "Epoch 93/100, Training Loss: 0.0391, Training Accuracy: 99.58%, Validation Loss: 0.8548, Validation Accuracy: 78.31%\n",
      "Epoch 94/100, Training Loss: 0.0426, Training Accuracy: 99.70%, Validation Loss: 0.8857, Validation Accuracy: 79.28%\n",
      "Epoch 95/100, Training Loss: 0.0370, Training Accuracy: 99.70%, Validation Loss: 0.8861, Validation Accuracy: 79.76%\n",
      "Epoch 96/100, Training Loss: 0.0337, Training Accuracy: 99.76%, Validation Loss: 0.9206, Validation Accuracy: 78.07%\n",
      "Epoch 97/100, Training Loss: 0.0350, Training Accuracy: 99.76%, Validation Loss: 0.9103, Validation Accuracy: 78.80%\n",
      "Epoch 98/100, Training Loss: 0.0300, Training Accuracy: 99.94%, Validation Loss: 0.8861, Validation Accuracy: 78.80%\n",
      "Epoch 99/100, Training Loss: 0.0298, Training Accuracy: 99.88%, Validation Loss: 0.9794, Validation Accuracy: 78.55%\n",
      "Epoch 100/100, Training Loss: 0.0397, Training Accuracy: 99.58%, Validation Loss: 0.9986, Validation Accuracy: 78.07%\n",
      "Finished Training\n"
     ]
    }
   ],
   "source": [
    "# train model and get training and validation losses\n",
    "train_losses, val_losses, train_accuracies, val_accuracies = train(model, optimizer, num_epochs=100)\n",
    "print('Finished Training')"
   ]
  },
  {
   "cell_type": "code",
   "execution_count": 26,
   "metadata": {
    "scrolled": true
   },
   "outputs": [
    {
     "data": {
      "image/png": "[encoded data removed]",
      "text/plain": [
       "<Figure size 1080x432 with 1 Axes>"
      ]
     },
     "metadata": {
      "needs_background": "light"
     },
     "output_type": "display_data"
    },
    {
     "data": {
      "image/png": "[encoded data removed]",
      "text/plain": [
       "<Figure size 1080x432 with 1 Axes>"
      ]
     },
     "metadata": {
      "needs_background": "light"
     },
     "output_type": "display_data"
    }
   ],
   "source": [
    "def plots(train_losses, val_losses, train_accuracies, val_accuracies):\n",
    "    epochs = range(1, len(train_losses) + 1)\n",
    "\n",
    "    plt.subplot(1, 2, 1)\n",
    "    plt.plot(epochs, train_losses, label='Training Loss')\n",
    "    plt.plot(epochs, val_losses, label='Validation Loss')\n",
    "    plt.legend()\n",
    "    plt.title('Training and Validation Loss')\n",
    "    plt.xlabel('Epochs')\n",
    "    plt.ylabel('Loss')\n",
    "\n",
    "    plt.tight_layout()\n",
    "    plt.show()\n",
    "    \n",
    "    plt.subplot(1, 2, 2)\n",
    "    plt.plot(epochs, train_accuracies, label='Training Accuracy')\n",
    "    plt.plot(epochs, val_accuracies, label='Validation Accuracy')\n",
    "    plt.title('Training and Validation Accuracy')\n",
    "    plt.xlabel('Epochs')\n",
    "    plt.ylabel('Accuracy (%)')\n",
    "    plt.legend()\n",
    "\n",
    "    plt.tight_layout()\n",
    "    plt.show()\n",
    "\n",
    "# plot everything to check for overfitting\n",
    "plots(train_losses, val_losses, train_accuracies, val_accuracies)\n"
   ]
  },
  {
   "cell_type": "code",
   "execution_count": 27,
   "metadata": {
    "scrolled": true
   },
   "outputs": [
    {
     "name": "stdout",
     "output_type": "stream",
     "text": [
      "Validation Set Accuracy\n",
      "Got 324 / 415 correct (78.07)\n"
     ]
    }
   ],
   "source": [
    "print('Validation Set Accuracy')\n",
    "testVal(val_loader, model)"
   ]
  },
  {
   "cell_type": "code",
   "execution_count": null,
   "metadata": {},
   "outputs": [],
   "source": [
    "model_scripted = torch.jit.script(model) # Export to TorchScript\n",
    "model_scripted.save(\"../Checkpoints/AlexNet.pt\") # Save the model"
   ]
  }
 ],
 "metadata": {
  "kernelspec": {
   "display_name": "Python 3 (ipykernel)",
   "language": "python",
   "name": "python3"
  },
  "language_info": {
   "codemirror_mode": {
    "name": "ipython",
    "version": 3
   },
   "file_extension": ".py",
   "mimetype": "text/x-python",
   "name": "python",
   "nbconvert_exporter": "python",
   "pygments_lexer": "ipython3",
   "version": "3.9.5"
  }
 },
 "nbformat": 4,
 "nbformat_minor": 2
}
