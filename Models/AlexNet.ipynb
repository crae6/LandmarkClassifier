{
 "cells": [
  {
   "cell_type": "code",
   "execution_count": 1,
   "metadata": {},
   "outputs": [],
   "source": [
    "# imports an stuff\n",
    "import torch\n",
    "import torch.nn as nn\n",
    "import torch.optim as optim\n",
    "from torchvision import datasets, transforms\n",
    "from torch.utils.data import DataLoader, random_split\n",
    "from random import choice\n",
    "import numpy as np\n",
    "\n",
    "import matplotlib.pyplot as plt\n",
    "%matplotlib inline\n",
    "plt.rcParams[\"figure.figsize\"] = (15.0, 6.0)  # set default size of plots"
   ]
  },
  {
   "cell_type": "code",
   "execution_count": 2,
   "metadata": {},
   "outputs": [
    {
     "name": "stdout",
     "output_type": "stream",
     "text": [
      "Number of training samples: 1658\n",
      "Number of validation samples: 415\n"
     ]
    }
   ],
   "source": [
    "class RandomTransform:\n",
    "    def __init__(self, transforms):\n",
    "        self.transforms = transforms\n",
    "\n",
    "    def __call__(self, img):\n",
    "        transform = choice(self.transforms)\n",
    "        return transform(img)\n",
    "    \n",
    "# transformations for the training data with augmentation\n",
    "train_transformations1 = transforms.Compose([\n",
    "    transforms.RandomResizedCrop(256, scale=(0.7, 1.0)),\n",
    "    transforms.Resize((256, 256)),\n",
    "    transforms.ToTensor(),\n",
    "    transforms.Normalize((0.5, 0.5, 0.5), (0.5, 0.5, 0.5))\n",
    "])\n",
    "\n",
    "train_transformations2 = transforms.Compose([\n",
    "    transforms.RandomResizedCrop(256, scale=(0.85, 1.0)),\n",
    "    transforms.ColorJitter(brightness=0.1, contrast=0.1, saturation=0.1, hue=0.05),\n",
    "    transforms.Resize((256, 256)),\n",
    "    transforms.ToTensor(),\n",
    "    transforms.Normalize((0.5, 0.5, 0.5), (0.5, 0.5, 0.5))\n",
    "])\n",
    "\n",
    "train_transformations3 = transforms.Compose([\n",
    "    transforms.RandomHorizontalFlip(),\n",
    "    transforms.RandomRotation(10),\n",
    "    transforms.ColorJitter(brightness=0.2, contrast=0.2, saturation=0.2, hue=0.1),\n",
    "    transforms.ToTensor(),\n",
    "    transforms.Normalize((0.5, 0.5, 0.5), (0.5, 0.5, 0.5))\n",
    "])\n",
    "\n",
    "# choose a random transformation\n",
    "train_transformations = RandomTransform([train_transformations1, train_transformations2, train_transformations3])\n",
    "\n",
    "val_test_transformations = transforms.Compose([\n",
    "    transforms.ToTensor(), \n",
    "    transforms.Normalize((0.5, 0.5, 0.5), (0.5, 0.5, 0.5))\n",
    "])\n",
    "\n",
    "# batch size and number of labels\n",
    "batch_size = 64\n",
    "num_labels = 12\n",
    "\n",
    "# Directory with data\n",
    "dataset_path = '../data2'\n",
    "\n",
    "# Load dataset\n",
    "dataset = datasets.ImageFolder(root=dataset_path)\n",
    "\n",
    "# split data\n",
    "total_size = len(dataset)\n",
    "train_size = int(0.8 * total_size)\n",
    "val_size = total_size - train_size\n",
    "# split dataset\n",
    "train_dataset, val_dataset = random_split(dataset, [train_size, val_size])\n",
    "\n",
    "# apply transformations\n",
    "train_dataset.dataset.transform = train_transformations\n",
    "val_dataset.dataset.transform = val_test_transformations\n",
    "\n",
    "# create data loaders\n",
    "train_loader = DataLoader(train_dataset, batch_size=batch_size, shuffle=True)\n",
    "val_loader = DataLoader(val_dataset, batch_size=batch_size, shuffle=False)\n",
    "\n",
    "# display sizes\n",
    "print(f'Number of training samples: {len(train_dataset)}')\n",
    "print(f'Number of validation samples: {len(val_dataset)}')\n"
   ]
  },
  {
   "cell_type": "code",
   "execution_count": 3,
   "metadata": {},
   "outputs": [
    {
     "name": "stdout",
     "output_type": "stream",
     "text": [
      "using device: cuda\n"
     ]
    }
   ],
   "source": [
    "# check if GPU is available\n",
    "USE_GPU = True\n",
    "dtype = torch.float32\n",
    "\n",
    "if USE_GPU and torch.cuda.is_available():\n",
    "    device = torch.device('cuda')\n",
    "else:\n",
    "    device = torch.device('cpu')\n",
    "\n",
    "print('using device:', device)"
   ]
  },
  {
   "cell_type": "code",
   "execution_count": 4,
   "metadata": {},
   "outputs": [],
   "source": [
    "# test the model on the validation set\n",
    "def testVal(loader, model): \n",
    "    num_correct = 0\n",
    "    num_samples = 0\n",
    "    model.eval()  \n",
    "\n",
    "    with torch.no_grad():\n",
    "        for images, labels in loader:\n",
    "            images = images.to(device=device, dtype=dtype)\n",
    "            labels = labels.to(device=device, dtype=torch.long)\n",
    "            scores = model(images)\n",
    "            _, predicted = scores.max(1)\n",
    "            num_correct += (predicted == labels).sum()\n",
    "            num_samples += predicted.size(0)\n",
    "    \n",
    "        acc = float(num_correct) / num_samples\n",
    "        print('Got %d / %d correct (%.2f)' % (num_correct, num_samples, 100 * acc))"
   ]
  },
  {
   "cell_type": "code",
   "execution_count": 5,
   "metadata": {},
   "outputs": [],
   "source": [
    "def train(model, optimizer, num_epochs=1):\n",
    "    model = model.to(device)\n",
    "    train_losses = []\n",
    "    val_losses = []\n",
    "    train_accuracies = []\n",
    "    val_accuracies = []\n",
    "    count = 0;\n",
    "    best_val_loss = 1000;\n",
    "\n",
    "    for epoch in range(num_epochs):\n",
    "        model.train()\n",
    "        train_loss = 0.0\n",
    "        correct_train = 0\n",
    "        total_train = 0\n",
    "        \n",
    "        for images, labels in train_loader:\n",
    "            images = images.to(device=device, dtype=dtype)\n",
    "            labels = labels.to(device=device, dtype=torch.long)\n",
    "\n",
    "            optimizer.zero_grad()\n",
    "            scores = model(images)\n",
    "            loss = loss_fn(scores, labels)\n",
    "            loss.backward()\n",
    "            optimizer.step()\n",
    "\n",
    "            train_loss += loss.item()\n",
    "            _, predicted = scores.max(1)\n",
    "            total_train += labels.size(0)\n",
    "            correct_train += predicted.eq(labels).sum().item()\n",
    "\n",
    "        av_train_loss = train_loss / len(train_loader)\n",
    "        train_accuracy = 100. * correct_train / total_train\n",
    "        train_losses.append(av_train_loss)\n",
    "        train_accuracies.append(train_accuracy)\n",
    "\n",
    "        model.eval()\n",
    "        val_loss = 0.0\n",
    "        correct_val = 0\n",
    "        total_val = 0\n",
    "        with torch.no_grad():\n",
    "            for images, labels in val_loader:\n",
    "                images = images.to(device=device, dtype=dtype)\n",
    "                labels = labels.to(device=device, dtype=torch.long)\n",
    "                scores = model(images)\n",
    "                loss = loss_fn(scores, labels)\n",
    "                val_loss += loss.item()\n",
    "\n",
    "                _, predicted = scores.max(1)\n",
    "                total_val += labels.size(0)\n",
    "                correct_val += predicted.eq(labels).sum().item()\n",
    "\n",
    "        av_val_loss = val_loss / len(val_loader)\n",
    "        val_accuracy = 100. * correct_val / total_val\n",
    "        val_losses.append(av_val_loss)\n",
    "        val_accuracies.append(val_accuracy)\n",
    "        \n",
    "        if av_val_loss < best_val_loss:\n",
    "            best_val_loss = av_val_loss\n",
    "            count = 0\n",
    "        else:\n",
    "            count += 1\n",
    "\n",
    "        if count > 10:\n",
    "            print(\"Early stopping\")\n",
    "            break\n",
    "            \n",
    "        print(f'Epoch {epoch+1}/{num_epochs}, Training Loss: {av_train_loss:.4f}, Training Accuracy: {train_accuracy:.2f}%, Validation Loss: {av_val_loss:.4f}, Validation Accuracy: {val_accuracy:.2f}%')\n",
    "\n",
    "    return train_losses, val_losses, train_accuracies, val_accuracies\n"
   ]
  },
  {
   "cell_type": "code",
   "execution_count": 6,
   "metadata": {},
   "outputs": [],
   "source": [
    "def flatten(x):\n",
    "    N = x.shape[0]\n",
    "    return x.view(N, -1)\n",
    "\n",
    "class AlexNet(nn.Module):\n",
    "    def __init__(self, num_classes):\n",
    "        super(AlexNet, self).__init__()\n",
    "        self.features = nn.Sequential(\n",
    "            nn.Conv2d(3, 96, kernel_size=11, stride=4, padding=0),\n",
    "            nn.BatchNorm2d(96),\n",
    "            nn.ReLU(inplace=True),\n",
    "            nn.MaxPool2d(kernel_size=3, stride=2),\n",
    "\n",
    "            nn.Conv2d(96, 256, kernel_size=5, padding=2),\n",
    "            nn.BatchNorm2d(256),\n",
    "            nn.ReLU(inplace=True),\n",
    "            nn.MaxPool2d(kernel_size=3, stride=2),\n",
    "\n",
    "            nn.Conv2d(256, 384, kernel_size=3, padding=1),\n",
    "            nn.BatchNorm2d(384),\n",
    "            nn.ReLU(inplace=True),\n",
    "\n",
    "            nn.Conv2d(384, 384, kernel_size=3, padding=1),\n",
    "            nn.BatchNorm2d(384),\n",
    "            nn.ReLU(inplace=True),\n",
    "            \n",
    "            nn.Conv2d(384, 256, kernel_size=3, padding=1),\n",
    "            nn.BatchNorm2d(256),\n",
    "            nn.ReLU(inplace=True),\n",
    "            nn.MaxPool2d(kernel_size=3, stride=2),\n",
    "        )\n",
    "\n",
    "        self.avgpool = nn.AdaptiveAvgPool2d((6, 6))\n",
    "\n",
    "        self.classifier = nn.Sequential(\n",
    "            nn.Dropout(0.5),\n",
    "            nn.Linear(256 * 6 * 6, 1024),\n",
    "            nn.ReLU(inplace=True),\n",
    "            nn.Dropout(0.5),\n",
    "            nn.Linear(1024, 1024),\n",
    "            nn.ReLU(inplace=True),\n",
    "            nn.Linear(1024, num_classes),\n",
    "        )\n",
    "\n",
    "    def forward(self, x):\n",
    "        x = self.features(x)\n",
    "        x = self.avgpool(x)\n",
    "        x = flatten(x)\n",
    "        x = self.classifier(x)\n",
    "        return x"
   ]
  },
  {
   "cell_type": "code",
   "execution_count": 9,
   "metadata": {},
   "outputs": [],
   "source": [
    "# setup model and optimizer\n",
    "loss_fn = nn.CrossEntropyLoss()\n",
    "\n",
    "model = AlexNet(num_labels)\n",
    "optimizer = optim.SGD(model.parameters(), lr=0.0001, weight_decay=0.005, momentum=0.9)\n"
   ]
  },
  {
   "cell_type": "code",
   "execution_count": 10,
   "metadata": {
    "scrolled": true
   },
   "outputs": [
    {
     "name": "stdout",
     "output_type": "stream",
     "text": [
      "Epoch 1/100, Training Loss: 2.4670, Training Accuracy: 14.96%, Validation Loss: 2.4667, Validation Accuracy: 16.87%\n",
      "Epoch 3/100, Training Loss: 2.3624, Training Accuracy: 22.26%, Validation Loss: 2.3447, Validation Accuracy: 26.02%\n",
      "Epoch 4/100, Training Loss: 2.3191, Training Accuracy: 25.39%, Validation Loss: 2.3042, Validation Accuracy: 26.75%\n",
      "Epoch 5/100, Training Loss: 2.2970, Training Accuracy: 25.15%, Validation Loss: 2.2683, Validation Accuracy: 29.64%\n",
      "Epoch 6/100, Training Loss: 2.2514, Training Accuracy: 26.90%, Validation Loss: 2.2267, Validation Accuracy: 30.84%\n",
      "Epoch 7/100, Training Loss: 2.2125, Training Accuracy: 27.56%, Validation Loss: 2.1903, Validation Accuracy: 31.57%\n",
      "Epoch 8/100, Training Loss: 2.1745, Training Accuracy: 30.52%, Validation Loss: 2.1523, Validation Accuracy: 32.29%\n",
      "Epoch 9/100, Training Loss: 2.1239, Training Accuracy: 31.42%, Validation Loss: 2.1151, Validation Accuracy: 33.98%\n",
      "Epoch 11/100, Training Loss: 2.0488, Training Accuracy: 35.16%, Validation Loss: 2.0484, Validation Accuracy: 35.66%\n",
      "Epoch 12/100, Training Loss: 2.0264, Training Accuracy: 36.13%, Validation Loss: 2.0157, Validation Accuracy: 38.31%\n",
      "Epoch 13/100, Training Loss: 1.9865, Training Accuracy: 38.18%, Validation Loss: 1.9896, Validation Accuracy: 38.80%\n",
      "Epoch 14/100, Training Loss: 1.9399, Training Accuracy: 40.47%, Validation Loss: 1.9588, Validation Accuracy: 40.48%\n",
      "Epoch 15/100, Training Loss: 1.9013, Training Accuracy: 42.46%, Validation Loss: 1.9222, Validation Accuracy: 41.45%\n",
      "Epoch 16/100, Training Loss: 1.8701, Training Accuracy: 42.40%, Validation Loss: 1.8953, Validation Accuracy: 42.65%\n",
      "Epoch 17/100, Training Loss: 1.8240, Training Accuracy: 45.05%, Validation Loss: 1.8611, Validation Accuracy: 43.61%\n",
      "Epoch 18/100, Training Loss: 1.7952, Training Accuracy: 44.87%, Validation Loss: 1.8248, Validation Accuracy: 46.27%\n",
      "Epoch 19/100, Training Loss: 1.7672, Training Accuracy: 45.78%, Validation Loss: 1.8065, Validation Accuracy: 46.27%\n",
      "Epoch 21/100, Training Loss: 1.6895, Training Accuracy: 49.10%, Validation Loss: 1.7421, Validation Accuracy: 49.64%\n",
      "Epoch 22/100, Training Loss: 1.6524, Training Accuracy: 48.79%, Validation Loss: 1.7089, Validation Accuracy: 51.33%\n",
      "Epoch 23/100, Training Loss: 1.6360, Training Accuracy: 51.45%, Validation Loss: 1.6788, Validation Accuracy: 50.84%\n",
      "Epoch 24/100, Training Loss: 1.5899, Training Accuracy: 51.87%, Validation Loss: 1.6499, Validation Accuracy: 52.05%\n",
      "Epoch 26/100, Training Loss: 1.5323, Training Accuracy: 53.50%, Validation Loss: 1.5811, Validation Accuracy: 53.25%\n",
      "Epoch 27/100, Training Loss: 1.5086, Training Accuracy: 54.10%, Validation Loss: 1.5670, Validation Accuracy: 53.73%\n",
      "Epoch 29/100, Training Loss: 1.4384, Training Accuracy: 56.33%, Validation Loss: 1.5103, Validation Accuracy: 54.22%\n",
      "Epoch 30/100, Training Loss: 1.4093, Training Accuracy: 57.24%, Validation Loss: 1.4778, Validation Accuracy: 53.98%\n",
      "Epoch 31/100, Training Loss: 1.3763, Training Accuracy: 57.84%, Validation Loss: 1.4563, Validation Accuracy: 55.90%\n",
      "Epoch 32/100, Training Loss: 1.3441, Training Accuracy: 59.71%, Validation Loss: 1.4261, Validation Accuracy: 56.14%\n",
      "Epoch 34/100, Training Loss: 1.2850, Training Accuracy: 60.07%, Validation Loss: 1.3858, Validation Accuracy: 57.35%\n",
      "Epoch 35/100, Training Loss: 1.2605, Training Accuracy: 61.64%, Validation Loss: 1.3546, Validation Accuracy: 58.55%\n",
      "Epoch 36/100, Training Loss: 1.2375, Training Accuracy: 62.18%, Validation Loss: 1.3238, Validation Accuracy: 59.76%\n",
      "Epoch 37/100, Training Loss: 1.2312, Training Accuracy: 62.97%, Validation Loss: 1.3057, Validation Accuracy: 60.72%\n",
      "Epoch 38/100, Training Loss: 1.2021, Training Accuracy: 63.39%, Validation Loss: 1.2942, Validation Accuracy: 60.24%\n",
      "Epoch 39/100, Training Loss: 1.1859, Training Accuracy: 62.06%, Validation Loss: 1.2780, Validation Accuracy: 61.45%\n",
      "Epoch 40/100, Training Loss: 1.1382, Training Accuracy: 65.86%, Validation Loss: 1.2437, Validation Accuracy: 62.41%\n",
      "Epoch 42/100, Training Loss: 1.0774, Training Accuracy: 67.55%, Validation Loss: 1.2277, Validation Accuracy: 61.20%\n",
      "Epoch 43/100, Training Loss: 1.0625, Training Accuracy: 67.19%, Validation Loss: 1.2006, Validation Accuracy: 63.61%\n",
      "Epoch 44/100, Training Loss: 1.0378, Training Accuracy: 68.58%, Validation Loss: 1.1674, Validation Accuracy: 64.10%\n",
      "Epoch 45/100, Training Loss: 1.0356, Training Accuracy: 68.70%, Validation Loss: 1.1481, Validation Accuracy: 64.58%\n",
      "Epoch 46/100, Training Loss: 1.0012, Training Accuracy: 69.78%, Validation Loss: 1.1551, Validation Accuracy: 65.06%\n",
      "Epoch 47/100, Training Loss: 0.9773, Training Accuracy: 70.45%, Validation Loss: 1.0993, Validation Accuracy: 66.75%\n",
      "Epoch 48/100, Training Loss: 0.9465, Training Accuracy: 71.83%, Validation Loss: 1.0857, Validation Accuracy: 66.27%\n",
      "Epoch 49/100, Training Loss: 0.9384, Training Accuracy: 72.26%, Validation Loss: 1.0551, Validation Accuracy: 66.75%\n",
      "Epoch 50/100, Training Loss: 0.8968, Training Accuracy: 73.82%, Validation Loss: 1.0507, Validation Accuracy: 68.67%\n",
      "Epoch 51/100, Training Loss: 0.8856, Training Accuracy: 74.19%, Validation Loss: 1.0454, Validation Accuracy: 66.99%\n",
      "Epoch 52/100, Training Loss: 0.8711, Training Accuracy: 74.43%, Validation Loss: 1.0219, Validation Accuracy: 68.92%\n",
      "Epoch 53/100, Training Loss: 0.8386, Training Accuracy: 76.18%, Validation Loss: 1.0073, Validation Accuracy: 69.40%\n",
      "Epoch 54/100, Training Loss: 0.8072, Training Accuracy: 76.48%, Validation Loss: 0.9782, Validation Accuracy: 69.88%\n",
      "Epoch 55/100, Training Loss: 0.8128, Training Accuracy: 75.81%, Validation Loss: 1.0365, Validation Accuracy: 66.51%\n",
      "Epoch 57/100, Training Loss: 0.7545, Training Accuracy: 78.83%, Validation Loss: 1.0015, Validation Accuracy: 69.40%\n",
      "Epoch 58/100, Training Loss: 0.7520, Training Accuracy: 77.68%, Validation Loss: 0.9633, Validation Accuracy: 70.36%\n",
      "Epoch 59/100, Training Loss: 0.7264, Training Accuracy: 79.98%, Validation Loss: 1.0024, Validation Accuracy: 69.88%\n",
      "Epoch 60/100, Training Loss: 0.7289, Training Accuracy: 79.07%, Validation Loss: 0.9109, Validation Accuracy: 73.49%\n",
      "Epoch 61/100, Training Loss: 0.6777, Training Accuracy: 81.24%, Validation Loss: 0.9053, Validation Accuracy: 73.49%\n",
      "Epoch 62/100, Training Loss: 0.6739, Training Accuracy: 80.76%, Validation Loss: 0.9122, Validation Accuracy: 72.53%\n",
      "Epoch 63/100, Training Loss: 0.6535, Training Accuracy: 81.72%, Validation Loss: 0.9322, Validation Accuracy: 72.05%\n",
      "Epoch 64/100, Training Loss: 0.6178, Training Accuracy: 82.81%, Validation Loss: 0.8763, Validation Accuracy: 75.18%\n",
      "Epoch 65/100, Training Loss: 0.5977, Training Accuracy: 83.23%, Validation Loss: 0.8540, Validation Accuracy: 74.70%\n",
      "Epoch 66/100, Training Loss: 0.5966, Training Accuracy: 82.87%, Validation Loss: 0.8658, Validation Accuracy: 75.18%\n",
      "Epoch 67/100, Training Loss: 0.5736, Training Accuracy: 84.32%, Validation Loss: 0.8518, Validation Accuracy: 73.98%\n",
      "Epoch 68/100, Training Loss: 0.5721, Training Accuracy: 84.74%, Validation Loss: 0.8218, Validation Accuracy: 75.90%\n",
      "Epoch 69/100, Training Loss: 0.5619, Training Accuracy: 83.53%, Validation Loss: 0.8923, Validation Accuracy: 72.77%\n",
      "Epoch 70/100, Training Loss: 0.5453, Training Accuracy: 84.98%, Validation Loss: 0.8524, Validation Accuracy: 75.18%\n",
      "Epoch 71/100, Training Loss: 0.5297, Training Accuracy: 86.19%, Validation Loss: 0.8192, Validation Accuracy: 75.42%\n",
      "Epoch 72/100, Training Loss: 0.5140, Training Accuracy: 86.19%, Validation Loss: 0.8266, Validation Accuracy: 77.11%\n",
      "Epoch 73/100, Training Loss: 0.4881, Training Accuracy: 88.42%, Validation Loss: 0.8086, Validation Accuracy: 76.87%\n",
      "Epoch 74/100, Training Loss: 0.4832, Training Accuracy: 86.37%, Validation Loss: 0.8408, Validation Accuracy: 74.70%\n",
      "Epoch 75/100, Training Loss: 0.4672, Training Accuracy: 87.09%, Validation Loss: 0.8432, Validation Accuracy: 75.18%\n",
      "Epoch 76/100, Training Loss: 0.4508, Training Accuracy: 87.76%, Validation Loss: 0.7764, Validation Accuracy: 76.39%\n",
      "Epoch 77/100, Training Loss: 0.4366, Training Accuracy: 89.08%, Validation Loss: 0.7595, Validation Accuracy: 77.83%\n",
      "Epoch 78/100, Training Loss: 0.4355, Training Accuracy: 88.72%, Validation Loss: 0.7686, Validation Accuracy: 78.80%\n",
      "Epoch 79/100, Training Loss: 0.4165, Training Accuracy: 89.14%, Validation Loss: 0.8623, Validation Accuracy: 74.22%\n"
     ]
    },
    {
     "name": "stdout",
     "output_type": "stream",
     "text": [
      "Epoch 80/100, Training Loss: 0.4109, Training Accuracy: 88.96%, Validation Loss: 0.8381, Validation Accuracy: 74.94%\n",
      "Epoch 81/100, Training Loss: 0.3823, Training Accuracy: 90.41%, Validation Loss: 0.7656, Validation Accuracy: 77.83%\n",
      "Epoch 82/100, Training Loss: 0.3826, Training Accuracy: 90.71%, Validation Loss: 0.9785, Validation Accuracy: 68.19%\n",
      "Epoch 85/100, Training Loss: 0.3569, Training Accuracy: 91.25%, Validation Loss: 1.1238, Validation Accuracy: 65.54%\n",
      "Epoch 86/100, Training Loss: 0.3493, Training Accuracy: 91.25%, Validation Loss: 0.7873, Validation Accuracy: 76.39%\n",
      "Epoch 87/100, Training Loss: 0.3378, Training Accuracy: 91.19%, Validation Loss: 0.7114, Validation Accuracy: 80.96%\n",
      "Epoch 88/100, Training Loss: 0.3146, Training Accuracy: 92.88%, Validation Loss: 0.9981, Validation Accuracy: 68.19%\n",
      "Epoch 89/100, Training Loss: 0.3271, Training Accuracy: 92.22%, Validation Loss: 0.7587, Validation Accuracy: 78.07%\n",
      "Epoch 90/100, Training Loss: 0.3058, Training Accuracy: 92.58%, Validation Loss: 0.8529, Validation Accuracy: 74.94%\n",
      "Epoch 91/100, Training Loss: 0.3067, Training Accuracy: 92.82%, Validation Loss: 0.7320, Validation Accuracy: 78.80%\n",
      "Epoch 92/100, Training Loss: 0.2963, Training Accuracy: 92.76%, Validation Loss: 0.7071, Validation Accuracy: 80.72%\n",
      "Epoch 93/100, Training Loss: 0.2688, Training Accuracy: 93.91%, Validation Loss: 0.6883, Validation Accuracy: 79.28%\n",
      "Epoch 94/100, Training Loss: 0.2902, Training Accuracy: 92.82%, Validation Loss: 0.7803, Validation Accuracy: 77.83%\n",
      "Epoch 95/100, Training Loss: 0.2637, Training Accuracy: 94.33%, Validation Loss: 0.7506, Validation Accuracy: 79.04%\n",
      "Epoch 96/100, Training Loss: 0.2574, Training Accuracy: 93.97%, Validation Loss: 0.7266, Validation Accuracy: 78.31%\n",
      "Epoch 97/100, Training Loss: 0.2404, Training Accuracy: 94.81%, Validation Loss: 0.7280, Validation Accuracy: 78.55%\n",
      "Epoch 98/100, Training Loss: 0.2404, Training Accuracy: 95.30%, Validation Loss: 0.7337, Validation Accuracy: 78.80%\n",
      "Epoch 99/100, Training Loss: 0.2281, Training Accuracy: 95.42%, Validation Loss: 0.6755, Validation Accuracy: 81.20%\n",
      "Epoch 100/100, Training Loss: 0.2281, Training Accuracy: 95.30%, Validation Loss: 0.6965, Validation Accuracy: 80.96%\n",
      "Finished Training\n"
     ]
    }
   ],
   "source": [
    "# train model and get training and validation losses\n",
    "train_losses, val_losses, train_accuracies, val_accuracies = train(model, optimizer, num_epochs=100)\n",
    "print('Finished Training')"
   ]
  },
  {
   "cell_type": "code",
   "execution_count": 11,
   "metadata": {
    "scrolled": true
   },
   "outputs": [
    {
     "data": {
      "image/png": "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\n",
      "text/plain": [
       "<Figure size 1080x432 with 1 Axes>"
      ]
     },
     "metadata": {
      "needs_background": "light"
     },
     "output_type": "display_data"
    },
    {
     "data": {
      "image/png": "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\n",
      "text/plain": [
       "<Figure size 1080x432 with 1 Axes>"
      ]
     },
     "metadata": {
      "needs_background": "light"
     },
     "output_type": "display_data"
    }
   ],
   "source": [
    "def plots(train_losses, val_losses, train_accuracies, val_accuracies):\n",
    "    epochs = range(1, len(train_losses) + 1)\n",
    "\n",
    "    plt.subplot(1, 2, 1)\n",
    "    plt.plot(epochs, train_losses, label='Training Loss')\n",
    "    plt.plot(epochs, val_losses, label='Validation Loss')\n",
    "    plt.legend()\n",
    "    plt.title('Training and Validation Loss')\n",
    "    plt.xlabel('Epochs')\n",
    "    plt.ylabel('Loss')\n",
    "\n",
    "    plt.tight_layout()\n",
    "    plt.show()\n",
    "    \n",
    "    plt.subplot(1, 2, 2)\n",
    "    plt.plot(epochs, train_accuracies, label='Training Accuracy')\n",
    "    plt.plot(epochs, val_accuracies, label='Validation Accuracy')\n",
    "    plt.title('Training and Validation Accuracy')\n",
    "    plt.xlabel('Epochs')\n",
    "    plt.ylabel('Accuracy (%)')\n",
    "    plt.legend()\n",
    "\n",
    "    plt.tight_layout()\n",
    "    plt.show()\n",
    "\n",
    "# plot everything to check for overfitting\n",
    "plots(train_losses, val_losses, train_accuracies, val_accuracies)\n"
   ]
  },
  {
   "cell_type": "code",
   "execution_count": 12,
   "metadata": {
    "scrolled": true
   },
   "outputs": [
    {
     "name": "stdout",
     "output_type": "stream",
     "text": [
      "Validation Set Accuracy\n",
      "Got 336 / 415 correct (80.96)\n"
     ]
    }
   ],
   "source": [
    "print('Validation Set Accuracy')\n",
    "testVal(val_loader, model)"
   ]
  },
  {
   "cell_type": "code",
   "execution_count": 13,
   "metadata": {},
   "outputs": [],
   "source": [
    "model_scripted = torch.jit.script(model) # Export to TorchScript\n",
    "model_scripted.save(\"../Checkpoints/AlexNet.pt\") # Save the model"
   ]
  },
 ],
 "metadata": {
  "kernelspec": {
   "display_name": "Python 3 (ipykernel)",
   "language": "python",
   "name": "python3"
  },
  "language_info": {
   "codemirror_mode": {
    "name": "ipython",
    "version": 3
   },
   "file_extension": ".py",
   "mimetype": "text/x-python",
   "name": "python",
   "nbconvert_exporter": "python",
   "pygments_lexer": "ipython3",
   "version": "3.9.5"
  }
 },
 "nbformat": 4,
 "nbformat_minor": 2
}
