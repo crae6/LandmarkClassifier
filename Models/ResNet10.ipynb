{
 "cells": [
  {
   "cell_type": "code",
   "execution_count": 3,
   "metadata": {},
   "outputs": [],
   "source": [
    "# imports an stuff\n",
    "import torch\n",
    "import torch.nn as nn\n",
    "import torch.optim as optim\n",
    "from torchvision import datasets, transforms\n",
    "from torch.utils.data import DataLoader, random_split\n",
    "\n",
    "import torch.nn.functional as F\n",
    "\n",
    "import numpy as np\n",
    "\n",
    "import matplotlib.pyplot as plt\n",
    "%matplotlib inline\n",
    "plt.rcParams[\"figure.figsize\"] = (10.0, 8.0)  # set default size of plots"
   ]
  },
  {
   "cell_type": "code",
   "execution_count": 14,
   "metadata": {},
   "outputs": [
    {
     "name": "stdout",
     "output_type": "stream",
     "text": [
      "Number of training samples: 1054\n",
      "Number of validation samples: 264\n"
     ]
    }
   ],
   "source": [
    "# transformations for the training data with augmentation\n",
    "train_transformations = transforms.Compose([\n",
    "    transforms.RandomHorizontalFlip(), \n",
    "    transforms.RandomRotation(10), \n",
    "    transforms.ColorJitter(brightness=0.2, contrast=0.2, saturation=0.2, hue=0.1),\n",
    "    transforms.ToTensor(),\n",
    "    transforms.Normalize((0.5, 0.5, 0.5), (0.5, 0.5, 0.5))\n",
    "])\n",
    "\n",
    "val_test_transformations = transforms.Compose([\n",
    "    transforms.ToTensor(), \n",
    "    transforms.Normalize((0.5, 0.5, 0.5), (0.5, 0.5, 0.5))\n",
    "])\n",
    "\n",
    "# batch size and number of labels\n",
    "batch_size = 64\n",
    "num_labels = 12\n",
    "\n",
    "# Directory with data\n",
    "%cd ~/Desktop/ECE176/FinalProject/LandmarkClassifier-main\n",
    "dataset_path = './data'\n",
    "\n",
    "# Load dataset\n",
    "dataset = datasets.ImageFolder(root=dataset_path)\n",
    "# split data\n",
    "total_size = len(dataset)\n",
    "train_size = int(0.8 * total_size)\n",
    "val_size = total_size - train_size\n",
    "# split dataset\n",
    "train_dataset, val_dataset = random_split(dataset, [train_size, val_size])\n",
    "\n",
    "# apply transformations\n",
    "train_dataset.dataset.transform = train_transformations\n",
    "val_dataset.dataset.transform = val_test_transformations\n",
    "\n",
    "# create data loaders\n",
    "train_loader = DataLoader(train_dataset, batch_size=batch_size, shuffle=True)\n",
    "val_loader = DataLoader(val_dataset, batch_size=batch_size, shuffle=False)\n",
    "\n",
    "# display sizes\n",
    "print(f'Number of training samples: {len(train_dataset)}')\n",
    "print(f'Number of validation samples: {len(val_dataset)}')"
   ]
  },
  {
   "cell_type": "code",
   "execution_count": 15,
   "metadata": {},
   "outputs": [
    {
     "name": "stdout",
     "output_type": "stream",
     "text": [
      "using device: cpu\n"
     ]
    }
   ],
   "source": [
    "# check if GPU is available\n",
    "USE_GPU = True\n",
    "dtype = torch.float32\n",
    "\n",
    "if USE_GPU and torch.cuda.is_available():\n",
    "    device = torch.device('cuda')\n",
    "else:\n",
    "    device = torch.device('cpu')\n",
    "\n",
    "print('using device:', device)"
   ]
  },
  {
   "cell_type": "code",
   "execution_count": 16,
   "metadata": {},
   "outputs": [],
   "source": [
    "# test the model on the validation set\n",
    "def testVal(loader, model): \n",
    "    num_correct = 0\n",
    "    num_samples = 0\n",
    "    model.eval()  \n",
    "\n",
    "    with torch.no_grad():\n",
    "        for images, labels in loader:\n",
    "            images = images.to(device=device, dtype=dtype)\n",
    "            labels = labels.to(device=device, dtype=torch.long)\n",
    "            scores = model(images)\n",
    "            _, predicted = scores.max(1)\n",
    "            num_correct += (predicted == labels).sum()\n",
    "            num_samples += predicted.size(0)\n",
    "    \n",
    "        acc = float(num_correct) / num_samples\n",
    "        print('Got %d / %d correct (%.2f)' % (num_correct, num_samples, 100 * acc))"
   ]
  },
  {
   "cell_type": "code",
   "execution_count": 17,
   "metadata": {},
   "outputs": [],
   "source": [
    "# train model\n",
    "def train(model, optimizer, num_epochs=1):\n",
    "    model = model.to(device=device)\n",
    "    train_losses = []\n",
    "    val_losses = []\n",
    "\n",
    "    for epoch in range(num_epochs):\n",
    "        train_loss = 0.0\n",
    "        val_loss = 0.0\n",
    "\n",
    "        # get training accuracy over epochs\n",
    "        for i, (images, labels) in enumerate(train_loader):\n",
    "            model.train()\n",
    "            images = images.to(device=device, dtype=dtype) \n",
    "            labels = labels.to(device=device, dtype=torch.long)\n",
    "\n",
    "            scores = model(images)\n",
    "            loss_t = loss_fn(scores, labels)\n",
    "            train_loss += loss_t.item()\n",
    "            if i == len(train_loader) - 1:\n",
    "                print('Epoch %d/%d, Training Loss = %.4f' % (epoch+1, num_epochs, loss_t.item()))\n",
    "\n",
    "            optimizer.zero_grad()\n",
    "            loss_t.backward()\n",
    "            optimizer.step()\n",
    "        \n",
    "        train_losses.append(train_loss / len(train_loader))\n",
    "\n",
    "        # get validation accuracy over epochs\n",
    "        model.eval()\n",
    "        with torch.no_grad():\n",
    "            for images, labels in val_loader:\n",
    "                images = images.to(device=device, dtype=dtype)\n",
    "                labels = labels.to(device=device, dtype=torch.long)\n",
    "                scores = model(images)\n",
    "                loss_v = loss_fn(scores, labels)\n",
    "\n",
    "                val_loss += loss_v.item()\n",
    "\n",
    "        val_losses.append(val_loss / len(val_loader))\n",
    "        \n",
    "\n",
    "    return train_losses, val_losses"
   ]
  },
  {
   "cell_type": "code",
   "execution_count": 8,
   "metadata": {},
   "outputs": [],
   "source": [
    "# ResNet10 model\n",
    "def flatten(x):\n",
    "    N = x.shape[0]\n",
    "    return x.view(N, -1)\n",
    "\n",
    "class Resnet_Block(nn.Module):\n",
    "    def __init__(self, in_channels, out_channels, downsample=None, stride=1):\n",
    "        super(Resnet_Block, self).__init__()\n",
    "        \n",
    "        self.conv1 = nn.Conv2d(in_channels, out_channels, kernel_size=3, stride=stride, padding=1, bias = False)\n",
    "        self.bn1 = nn.BatchNorm2d(out_channels)\n",
    "        self.relu = nn.ReLU(inplace=True)\n",
    "        \n",
    "        self.conv2 = nn.Conv2d(out_channels, out_channels, kernel_size=3, stride=1, padding=1, bias = False)\n",
    "        self.bn2 = nn.BatchNorm2d(out_channels)\n",
    "            \n",
    "        self.downsample = downsample\n",
    "        \n",
    "    def forward(self, x):\n",
    "        identity = x \n",
    "        \n",
    "        out = self.conv1(x)\n",
    "        out = self.bn1(out)\n",
    "        out = self.relu(out)\n",
    "        \n",
    "        out = self.conv2(out)\n",
    "        out = self.bn2(out)\n",
    "        \n",
    "        if self.downsample is not None:\n",
    "            identity = self.downsample(x)\n",
    "            \n",
    "        out += identity\n",
    "        out = self.relu(out)\n",
    "        \n",
    "        return out\n",
    "\n",
    "class ResNet10(nn.Module):\n",
    "    def __init__(self, block, num_classes):\n",
    "        super(ResNet10, self).__init__()\n",
    "        self.in_channels=64\n",
    "        \n",
    "        self.conv1 = nn.Conv2d(3, self.in_channels, kernel_size=7, stride=2, padding=3, bias=False)\n",
    "        self.bn1 = nn.BatchNorm2d(self.in_channels)\n",
    "        self.relu = nn.ReLU(inplace=True)\n",
    "        \n",
    "        self.maxpool = nn.MaxPool2d(kernel_size=3, stride=2, padding=1)\n",
    "        \n",
    "        self.layer1 = block(self.in_channels, 64)\n",
    "        \n",
    "        self.layer2 = block(64, 128, downsample=nn.Sequential(\n",
    "            nn.Conv2d(64, 128, kernel_size=1, stride=1, bias=False),\n",
    "            nn.BatchNorm2d(128)))\n",
    "\n",
    "        self.layer3 = block(128, 256, downsample=nn.Sequential(\n",
    "            nn.Conv2d(128, 256, kernel_size=1, stride=1, bias=False),\n",
    "            nn.BatchNorm2d(256)))\n",
    "\n",
    "        self.layer4 = block(256, 512, downsample=nn.Sequential(\n",
    "            nn.Conv2d(256, 512, kernel_size=1, stride=2, bias=False),\n",
    "            nn.BatchNorm2d(512)), stride=2)\n",
    "\n",
    "        self.avg_pool = nn.AdaptiveAvgPool2d((1,1))\n",
    "        self.fc = nn.Linear(512, num_classes)\n",
    "\n",
    "    def forward(self, x):\n",
    "        x = self.conv1(x)\n",
    "        x = self.bn1(x)\n",
    "        x = self.relu(x)\n",
    "        x = self.maxpool(x)\n",
    "        \n",
    "        x = self.layer1(x)\n",
    "        x = self.layer2(x)\n",
    "        x = self.layer3(x)\n",
    "        x = self.layer4(x)\n",
    "        \n",
    "        x = self.avg_pool(x)\n",
    "        x = flatten(x)\n",
    "        x = self.fc(x)\n",
    "        return x"
   ]
  },
  {
   "cell_type": "code",
   "execution_count": 18,
   "metadata": {},
   "outputs": [],
   "source": [
    "# setup model and optimizer\n",
    "loss_fn = nn.CrossEntropyLoss()\n",
    "\n",
    "model = ResNet10(Resnet_Block, num_labels)\n",
    "optimizer = optim.Adam(model.parameters(), lr=0.0001, weight_decay=0.0001)"
   ]
  },
  {
   "cell_type": "code",
   "execution_count": 19,
   "metadata": {},
   "outputs": [
    {
     "name": "stdout",
     "output_type": "stream",
     "text": [
      "Epoch 1/20, Training Loss = 1.9619\n",
      "Epoch 2/20, Training Loss = 1.2076\n",
      "Epoch 3/20, Training Loss = 1.5517\n",
      "Epoch 4/20, Training Loss = 1.1141\n",
      "Epoch 5/20, Training Loss = 1.0663\n",
      "Epoch 6/20, Training Loss = 0.6937\n",
      "Epoch 7/20, Training Loss = 0.6866\n",
      "Epoch 8/20, Training Loss = 0.4946\n",
      "Epoch 9/20, Training Loss = 0.7394\n",
      "Epoch 10/20, Training Loss = 0.6303\n",
      "Epoch 11/20, Training Loss = 0.5499\n",
      "Epoch 12/20, Training Loss = 0.4984\n",
      "Epoch 13/20, Training Loss = 0.5712\n",
      "Epoch 14/20, Training Loss = 0.6710\n",
      "Epoch 15/20, Training Loss = 0.5190\n",
      "Epoch 16/20, Training Loss = 0.3314\n",
      "Epoch 17/20, Training Loss = 0.2320\n",
      "Epoch 18/20, Training Loss = 0.2980\n",
      "Epoch 19/20, Training Loss = 0.3101\n",
      "Epoch 20/20, Training Loss = 0.1410\n",
      "Finished Training\n"
     ]
    }
   ],
   "source": [
    "# train model and get training and validation losses\n",
    "train_loss, val_loss = train(model, optimizer, num_epochs=20)\n",
    "print('Finished Training')"
   ]
  },
  {
   "cell_type": "code",
   "execution_count": 20,
   "metadata": {
    "scrolled": true
   },
   "outputs": [
    {
     "data": {
      "image/png": "[encoded data removed]",
      "text/plain": [
       "<Figure size 1000x800 with 1 Axes>"
      ]
     },
     "metadata": {},
     "output_type": "display_data"
    }
   ],
   "source": [
    "# plot the training and validation losses to check for overfitting\n",
    "plt.plot(train_loss, label='Training loss')\n",
    "plt.plot(val_loss, label='Validation loss')\n",
    "plt.legend()\n",
    "plt.title('Training and Validation Losses')\n",
    "plt.xlabel('Epoch')\n",
    "plt.ylabel('Loss')\n",
    "plt.show()"
   ]
  },
  {
   "cell_type": "code",
   "execution_count": 21,
   "metadata": {
    "scrolled": true
   },
   "outputs": [
    {
     "name": "stdout",
     "output_type": "stream",
     "text": [
      "Validation Set Accuracy\n",
      "Got 219 / 264 correct (82.95)\n"
     ]
    }
   ],
   "source": [
    "print('Validation Set Accuracy')\n",
    "testVal(val_loader, model)"
   ]
  }
 ],
 "metadata": {
  "kernelspec": {
   "display_name": "Python 3 (ipykernel)",
   "language": "python",
   "name": "python3"
  },
  "language_info": {
   "codemirror_mode": {
    "name": "ipython",
    "version": 3
   },
   "file_extension": ".py",
   "mimetype": "text/x-python",
   "name": "python",
   "nbconvert_exporter": "python",
   "pygments_lexer": "ipython3",
   "version": "3.11.5"
  }
 },
 "nbformat": 4,
 "nbformat_minor": 2
}
