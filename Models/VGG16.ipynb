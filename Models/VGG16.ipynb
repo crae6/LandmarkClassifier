{
 "cells": [
  {
   "cell_type": "markdown",
   "metadata": {},
   "source": [
    "# VGG-16\n"
   ]
  },
  {
   "cell_type": "code",
   "execution_count": 1,
   "metadata": {},
   "outputs": [],
   "source": [
    "# imports an stuff\n",
    "import torch\n",
    "import torch.nn as nn\n",
    "import torch.optim as optim\n",
    "from torchvision import datasets, transforms\n",
    "from torch.utils.data import DataLoader, random_split\n",
    "import torchvision\n",
    "\n",
    "import torch.nn.functional as F\n",
    "\n",
    "import numpy as np\n",
    "\n",
    "import matplotlib.pyplot as plt\n",
    "plt.rcParams[\"figure.figsize\"] = (10.0, 8.0)  # set default size of plots"
   ]
  },
  {
   "cell_type": "code",
   "execution_count": 2,
   "metadata": {},
   "outputs": [
    {
     "name": "stdout",
     "output_type": "stream",
     "text": [
      "Number of training samples: 1658\n",
      "Number of validation samples: 415\n"
     ]
    }
   ],
   "source": [
    "class RandomApplyTransform:\n",
    "    def __init__(self, transforms):\n",
    "        self.transforms = transforms\n",
    "\n",
    "    def __call__(self, img):\n",
    "        transform = choice(self.transforms)\n",
    "        return transform(img)\n",
    "    \n",
    "# transformations for the training data with augmentation\n",
    "train_transformations1 = transforms.Compose([\n",
    "    transforms.RandomResizedCrop(256, scale=(0.7, 1.0)),\n",
    "    transforms.Resize((256, 256)),\n",
    "    transforms.ToTensor(),\n",
    "    transforms.Normalize((0.5, 0.5, 0.5), (0.5, 0.5, 0.5))\n",
    "])\n",
    "\n",
    "train_transformations2 = transforms.Compose([\n",
    "    transforms.RandomResizedCrop(256, scale=(0.85, 1.0)),\n",
    "    transforms.ColorJitter(brightness=0.1, contrast=0.1, saturation=0.1, hue=0.05),\n",
    "    transforms.Resize((256, 256)),\n",
    "    transforms.ToTensor(),\n",
    "    transforms.Normalize((0.5, 0.5, 0.5), (0.5, 0.5, 0.5))\n",
    "])\n",
    "\n",
    "train_transformations3 = transforms.Compose([\n",
    "    transforms.RandomHorizontalFlip(),\n",
    "    transforms.RandomRotation(10),\n",
    "    transforms.ColorJitter(brightness=0.2, contrast=0.2, saturation=0.2, hue=0.1),\n",
    "    transforms.ToTensor(),\n",
    "    transforms.Normalize((0.5, 0.5, 0.5), (0.5, 0.5, 0.5))\n",
    "])\n",
    "\n",
    "# choose a random transformation\n",
    "train_transformations = RandomApplyTransform([train_transformations1, train_transformations2, train_transformations3])\n",
    "\n",
    "val_test_transformations = transforms.Compose([\n",
    "    transforms.ToTensor(), \n",
    "    transforms.Normalize((0.5, 0.5, 0.5), (0.5, 0.5, 0.5))\n",
    "])\n",
    "\n",
    "# batch size and number of labels\n",
    "batch_size = 32\n",
    "num_labels = 12\n",
    "\n",
    "# Directory with data\n",
    "dataset_path = '../data2'\n",
    "\n",
    "# Load dataset\n",
    "dataset = datasets.ImageFolder(root=dataset_path)\n",
    "\n",
    "# split data\n",
    "total_size = len(dataset)\n",
    "train_size = int(0.8 * total_size)\n",
    "val_size = total_size - train_size\n",
    "# split dataset\n",
    "train_dataset, val_dataset = random_split(dataset, [train_size, val_size])\n",
    "\n",
    "# apply transformations\n",
    "train_dataset.dataset.transform = train_transformations\n",
    "val_dataset.dataset.transform = val_test_transformations\n",
    "\n",
    "# create data loaders\n",
    "train_loader = DataLoader(train_dataset, batch_size=batch_size, shuffle=True)\n",
    "val_loader = DataLoader(val_dataset, batch_size=batch_size, shuffle=False)\n",
    "\n",
    "# display sizes\n",
    "print(f'Number of training samples: {len(train_dataset)}')\n",
    "print(f'Number of validation samples: {len(val_dataset)}')\n"
   ]
  },
  {
   "cell_type": "code",
   "execution_count": 3,
   "metadata": {},
   "outputs": [
    {
     "name": "stdout",
     "output_type": "stream",
     "text": [
      "using device: cuda\n"
     ]
    }
   ],
   "source": [
    "# check if GPU is available\n",
    "USE_GPU = True\n",
    "dtype = torch.float32\n",
    "\n",
    "if USE_GPU and torch.cuda.is_available():\n",
    "    device = torch.device('cuda')\n",
    "else:\n",
    "    device = torch.device('cpu')\n",
    "\n",
    "print('using device:', device)"
   ]
  },
  {
   "cell_type": "code",
   "execution_count": 4,
   "metadata": {},
   "outputs": [],
   "source": [
    "# test the model on the validation set\n",
    "def testVal(loader, model): \n",
    "    num_correct = 0\n",
    "    num_samples = 0\n",
    "    model.eval()  \n",
    "\n",
    "    with torch.no_grad():\n",
    "        for images, labels in loader:\n",
    "            images = images.to(device=device, dtype=dtype)\n",
    "            labels = labels.to(device=device, dtype=torch.long)\n",
    "            scores = model(images)\n",
    "            _, predicted = scores.max(1)\n",
    "            num_correct += (predicted == labels).sum()\n",
    "            num_samples += predicted.size(0)\n",
    "    \n",
    "        acc = float(num_correct) / num_samples\n",
    "        print('Got %d / %d correct (%.2f)' % (num_correct, num_samples, 100 * acc))"
   ]
  },
  {
   "cell_type": "code",
   "execution_count": 5,
   "metadata": {},
   "outputs": [],
   "source": [
    "def train(model, optimizer, num_epochs=1):\n",
    "    model = model.to(device)\n",
    "    train_losses = []\n",
    "    val_losses = []\n",
    "    train_accuracies = []\n",
    "    val_accuracies = []\n",
    "\n",
    "    for epoch in range(num_epochs):\n",
    "        model.train()\n",
    "        train_loss = 0.0\n",
    "        correct_train = 0\n",
    "        total_train = 0\n",
    "        \n",
    "        for images, labels in train_loader:\n",
    "            images = images.to(device=device, dtype=dtype)\n",
    "            labels = labels.to(device=device, dtype=torch.long)\n",
    "\n",
    "            optimizer.zero_grad()\n",
    "            scores = model(images)\n",
    "            loss = loss_fn(scores, labels)\n",
    "            loss.backward()\n",
    "            optimizer.step()\n",
    "\n",
    "            train_loss += loss.item()\n",
    "            _, predicted = scores.max(1)\n",
    "            total_train += labels.size(0)\n",
    "            correct_train += predicted.eq(labels).sum().item()\n",
    "\n",
    "        av_train_loss = train_loss / len(train_loader)\n",
    "        train_accuracy = 100. * correct_train / total_train\n",
    "        train_losses.append(av_train_loss)\n",
    "        train_accuracies.append(train_accuracy)\n",
    "\n",
    "        model.eval()\n",
    "        val_loss = 0.0\n",
    "        correct_val = 0\n",
    "        total_val = 0\n",
    "        with torch.no_grad():\n",
    "            for images, labels in val_loader:\n",
    "                images = images.to(device=device, dtype=dtype)\n",
    "                labels = labels.to(device=device, dtype=torch.long)\n",
    "                scores = model(images)\n",
    "                loss = loss_fn(scores, labels)\n",
    "                val_loss += loss.item()\n",
    "\n",
    "                _, predicted = scores.max(1)\n",
    "                total_val += labels.size(0)\n",
    "                correct_val += predicted.eq(labels).sum().item()\n",
    "\n",
    "        av_val_loss = val_loss / len(val_loader)\n",
    "        val_accuracy = 100. * correct_val / total_val\n",
    "        val_losses.append(av_val_loss)\n",
    "        val_accuracies.append(val_accuracy)\n",
    "\n",
    "        print(f'Epoch {epoch+1}/{num_epochs}, Training Loss: {av_train_loss:.4f}, Training Accuracy: {train_accuracy:.2f}%, Validation Loss: {av_val_loss:.4f}, Validation Accuracy: {val_accuracy:.2f}%')\n",
    "\n",
    "    return train_losses, val_losses, train_accuracies, val_accuracies\n"
   ]
  },
  {
   "cell_type": "code",
   "execution_count": 15,
   "metadata": {},
   "outputs": [],
   "source": [
    "class VGG16(nn.Module):\n",
    "    def __init__(self, num_classes):\n",
    "        super(VGG16, self).__init__()\n",
    "        self.features = nn.Sequential(\n",
    "            nn.Conv2d(3, 32, kernel_size=3, padding=1),\n",
    "            nn.BatchNorm2d(32),\n",
    "            nn.ReLU(),\n",
    "            nn.Conv2d(32, 32, kernel_size=3, padding=1),\n",
    "            nn.BatchNorm2d(32),\n",
    "            nn.ReLU(), \n",
    "            nn.MaxPool2d(kernel_size=2, stride=2),\n",
    "            nn.Conv2d(32, 64, kernel_size=3, padding=1),\n",
    "            nn.BatchNorm2d(64),\n",
    "            nn.ReLU(),\n",
    "            nn.Conv2d(64, 64, kernel_size=3, padding=1),\n",
    "            nn.BatchNorm2d(64),\n",
    "            nn.ReLU(),\n",
    "            nn.MaxPool2d(kernel_size=2, stride=2),\n",
    "            nn.Conv2d(64, 128, kernel_size=3, padding=1),\n",
    "            nn.BatchNorm2d(128),\n",
    "            nn.ReLU(),\n",
    "            nn.Conv2d(128, 128, kernel_size=3, padding=1),\n",
    "            nn.BatchNorm2d(128),\n",
    "            nn.ReLU(),\n",
    "            nn.Conv2d(128, 128, kernel_size=3, padding=1),\n",
    "            nn.BatchNorm2d(128),\n",
    "            nn.ReLU(),\n",
    "            nn.MaxPool2d(kernel_size=2, stride=2)\n",
    "        )\n",
    "\n",
    "        self.classifier = nn.Sequential(\n",
    "            nn.Dropout(0.5),\n",
    "            nn.Linear(128 * 32 * 32, 1024),  # Adjusted to correct input size\n",
    "            nn.ReLU(),\n",
    "            nn.Dropout(0.5),\n",
    "            nn.Linear(1024, 512),\n",
    "            nn.ReLU(),\n",
    "            nn.Dropout(0.5),\n",
    "            nn.Linear(512, num_classes)\n",
    "        )\n",
    "\n",
    "    def forward(self, x):\n",
    "        x = self.features(x)\n",
    "        x = x.view(x.size(0), -1)  # Flatten the output of conv layers\n",
    "        x = self.classifier(x)\n",
    "        return x\n",
    "\n",
    "model = VGG16(num_labels)\n",
    "loss_fn = nn.CrossEntropyLoss()\n",
    "optimizer = optim.Adam(model.parameters(), lr=1e-5, weight_decay=1e-3)"
   ]
  },
  {
   "cell_type": "code",
   "execution_count": 16,
   "metadata": {},
   "outputs": [
    {
     "name": "stdout",
     "output_type": "stream",
     "text": [
      "Epoch 1/100, Training Loss: 2.3743, Training Accuracy: 20.69%, Validation Loss: 2.1586, Validation Accuracy: 29.64%\n",
      "Epoch 2/100, Training Loss: 2.1118, Training Accuracy: 32.51%, Validation Loss: 1.8697, Validation Accuracy: 42.89%\n",
      "Epoch 3/100, Training Loss: 1.8535, Training Accuracy: 40.41%, Validation Loss: 1.6947, Validation Accuracy: 47.23%\n",
      "Epoch 4/100, Training Loss: 1.6778, Training Accuracy: 47.41%, Validation Loss: 1.5915, Validation Accuracy: 50.60%\n",
      "Epoch 5/100, Training Loss: 1.5619, Training Accuracy: 49.03%, Validation Loss: 1.4791, Validation Accuracy: 54.94%\n",
      "Epoch 6/100, Training Loss: 1.4414, Training Accuracy: 54.52%, Validation Loss: 1.4054, Validation Accuracy: 56.87%\n",
      "Epoch 7/100, Training Loss: 1.3222, Training Accuracy: 58.56%, Validation Loss: 1.3020, Validation Accuracy: 59.28%\n",
      "Epoch 8/100, Training Loss: 1.2450, Training Accuracy: 61.70%, Validation Loss: 1.2406, Validation Accuracy: 60.72%\n",
      "Epoch 9/100, Training Loss: 1.1656, Training Accuracy: 63.99%, Validation Loss: 1.2111, Validation Accuracy: 60.72%\n",
      "Epoch 10/100, Training Loss: 1.0653, Training Accuracy: 67.13%, Validation Loss: 1.1589, Validation Accuracy: 66.02%\n",
      "Epoch 11/100, Training Loss: 1.0206, Training Accuracy: 68.09%, Validation Loss: 1.1347, Validation Accuracy: 64.82%\n",
      "Epoch 12/100, Training Loss: 0.9525, Training Accuracy: 71.17%, Validation Loss: 1.1420, Validation Accuracy: 62.89%\n",
      "Epoch 13/100, Training Loss: 0.8899, Training Accuracy: 74.13%, Validation Loss: 1.0651, Validation Accuracy: 66.75%\n",
      "Epoch 14/100, Training Loss: 0.8233, Training Accuracy: 75.39%, Validation Loss: 1.0444, Validation Accuracy: 66.99%\n",
      "Epoch 15/100, Training Loss: 0.7468, Training Accuracy: 78.11%, Validation Loss: 1.0149, Validation Accuracy: 68.43%\n",
      "Epoch 16/100, Training Loss: 0.7000, Training Accuracy: 80.28%, Validation Loss: 1.0052, Validation Accuracy: 68.19%\n",
      "Epoch 17/100, Training Loss: 0.6637, Training Accuracy: 80.46%, Validation Loss: 0.9776, Validation Accuracy: 69.64%\n",
      "Epoch 18/100, Training Loss: 0.6152, Training Accuracy: 81.85%, Validation Loss: 0.9659, Validation Accuracy: 69.16%\n",
      "Epoch 19/100, Training Loss: 0.5592, Training Accuracy: 83.72%, Validation Loss: 0.9709, Validation Accuracy: 70.36%\n",
      "Epoch 20/100, Training Loss: 0.5397, Training Accuracy: 84.74%, Validation Loss: 0.9551, Validation Accuracy: 70.36%\n",
      "Epoch 21/100, Training Loss: 0.5004, Training Accuracy: 86.25%, Validation Loss: 0.9864, Validation Accuracy: 70.12%\n",
      "Epoch 22/100, Training Loss: 0.4454, Training Accuracy: 87.94%, Validation Loss: 0.9541, Validation Accuracy: 70.60%\n",
      "Epoch 23/100, Training Loss: 0.4263, Training Accuracy: 89.20%, Validation Loss: 0.9617, Validation Accuracy: 69.88%\n",
      "Epoch 24/100, Training Loss: 0.4042, Training Accuracy: 89.51%, Validation Loss: 0.9580, Validation Accuracy: 69.88%\n",
      "Epoch 25/100, Training Loss: 0.3530, Training Accuracy: 90.95%, Validation Loss: 0.9283, Validation Accuracy: 71.81%\n",
      "Epoch 26/100, Training Loss: 0.3208, Training Accuracy: 91.50%, Validation Loss: 0.9362, Validation Accuracy: 69.64%\n",
      "Epoch 27/100, Training Loss: 0.3421, Training Accuracy: 91.19%, Validation Loss: 0.9634, Validation Accuracy: 70.60%\n",
      "Epoch 28/100, Training Loss: 0.2939, Training Accuracy: 92.82%, Validation Loss: 0.9769, Validation Accuracy: 71.57%\n",
      "Epoch 29/100, Training Loss: 0.2566, Training Accuracy: 94.21%, Validation Loss: 0.9496, Validation Accuracy: 72.77%\n",
      "Epoch 30/100, Training Loss: 0.2249, Training Accuracy: 95.17%, Validation Loss: 0.9298, Validation Accuracy: 72.77%\n",
      "Epoch 31/100, Training Loss: 0.2341, Training Accuracy: 93.49%, Validation Loss: 0.9533, Validation Accuracy: 71.33%\n",
      "Epoch 32/100, Training Loss: 0.2061, Training Accuracy: 95.17%, Validation Loss: 0.9727, Validation Accuracy: 72.29%\n",
      "Epoch 33/100, Training Loss: 0.1930, Training Accuracy: 95.66%, Validation Loss: 0.9489, Validation Accuracy: 71.08%\n",
      "Epoch 34/100, Training Loss: 0.1872, Training Accuracy: 95.60%, Validation Loss: 0.9964, Validation Accuracy: 70.60%\n",
      "Epoch 35/100, Training Loss: 0.1574, Training Accuracy: 97.10%, Validation Loss: 0.9603, Validation Accuracy: 73.25%\n",
      "Epoch 36/100, Training Loss: 0.1660, Training Accuracy: 96.86%, Validation Loss: 0.9733, Validation Accuracy: 72.53%\n",
      "Epoch 37/100, Training Loss: 0.1392, Training Accuracy: 97.65%, Validation Loss: 1.0344, Validation Accuracy: 71.33%\n",
      "Epoch 38/100, Training Loss: 0.1357, Training Accuracy: 97.41%, Validation Loss: 0.9896, Validation Accuracy: 72.77%\n",
      "Epoch 39/100, Training Loss: 0.1300, Training Accuracy: 97.77%, Validation Loss: 1.0068, Validation Accuracy: 72.29%\n",
      "Epoch 40/100, Training Loss: 0.1107, Training Accuracy: 98.61%, Validation Loss: 1.0379, Validation Accuracy: 72.77%\n",
      "Epoch 41/100, Training Loss: 0.1035, Training Accuracy: 98.43%, Validation Loss: 1.0049, Validation Accuracy: 73.01%\n",
      "Epoch 42/100, Training Loss: 0.0914, Training Accuracy: 98.97%, Validation Loss: 1.0224, Validation Accuracy: 71.81%\n",
      "Epoch 43/100, Training Loss: 0.0894, Training Accuracy: 98.91%, Validation Loss: 0.9993, Validation Accuracy: 73.25%\n",
      "Epoch 44/100, Training Loss: 0.0871, Training Accuracy: 98.55%, Validation Loss: 1.0258, Validation Accuracy: 72.05%\n",
      "Epoch 45/100, Training Loss: 0.0837, Training Accuracy: 98.73%, Validation Loss: 1.0112, Validation Accuracy: 72.53%\n",
      "Epoch 46/100, Training Loss: 0.0817, Training Accuracy: 98.67%, Validation Loss: 1.0489, Validation Accuracy: 73.01%\n",
      "Epoch 47/100, Training Loss: 0.0694, Training Accuracy: 99.28%, Validation Loss: 1.0204, Validation Accuracy: 72.77%\n",
      "Epoch 48/100, Training Loss: 0.0685, Training Accuracy: 99.03%, Validation Loss: 1.0704, Validation Accuracy: 72.05%\n",
      "Epoch 49/100, Training Loss: 0.0670, Training Accuracy: 99.03%, Validation Loss: 1.0788, Validation Accuracy: 72.53%\n",
      "Epoch 50/100, Training Loss: 0.0704, Training Accuracy: 98.91%, Validation Loss: 1.0502, Validation Accuracy: 73.73%\n",
      "Epoch 51/100, Training Loss: 0.0537, Training Accuracy: 99.34%, Validation Loss: 1.0504, Validation Accuracy: 72.05%\n",
      "Epoch 52/100, Training Loss: 0.0624, Training Accuracy: 99.10%, Validation Loss: 1.0687, Validation Accuracy: 72.53%\n",
      "Epoch 53/100, Training Loss: 0.0459, Training Accuracy: 99.40%, Validation Loss: 1.0772, Validation Accuracy: 72.29%\n",
      "Epoch 54/100, Training Loss: 0.0522, Training Accuracy: 99.58%, Validation Loss: 1.0578, Validation Accuracy: 73.01%\n",
      "Epoch 55/100, Training Loss: 0.0446, Training Accuracy: 99.52%, Validation Loss: 1.0364, Validation Accuracy: 73.01%\n",
      "Epoch 56/100, Training Loss: 0.0403, Training Accuracy: 99.76%, Validation Loss: 1.0956, Validation Accuracy: 71.33%\n",
      "Epoch 57/100, Training Loss: 0.0391, Training Accuracy: 99.46%, Validation Loss: 1.0948, Validation Accuracy: 73.01%\n",
      "Epoch 58/100, Training Loss: 0.0361, Training Accuracy: 99.70%, Validation Loss: 1.0945, Validation Accuracy: 74.22%\n",
      "Epoch 59/100, Training Loss: 0.0441, Training Accuracy: 99.46%, Validation Loss: 1.1135, Validation Accuracy: 72.05%\n",
      "Epoch 60/100, Training Loss: 0.0410, Training Accuracy: 99.52%, Validation Loss: 1.1091, Validation Accuracy: 71.81%\n",
      "Epoch 61/100, Training Loss: 0.0417, Training Accuracy: 99.22%, Validation Loss: 1.0976, Validation Accuracy: 72.53%\n",
      "Epoch 62/100, Training Loss: 0.0401, Training Accuracy: 99.46%, Validation Loss: 1.0743, Validation Accuracy: 73.49%\n",
      "Epoch 63/100, Training Loss: 0.0344, Training Accuracy: 99.64%, Validation Loss: 1.0871, Validation Accuracy: 73.98%\n",
      "Epoch 64/100, Training Loss: 0.0298, Training Accuracy: 99.70%, Validation Loss: 1.1636, Validation Accuracy: 71.81%\n",
      "Epoch 65/100, Training Loss: 0.0313, Training Accuracy: 99.34%, Validation Loss: 1.1033, Validation Accuracy: 73.73%\n",
      "Epoch 66/100, Training Loss: 0.0326, Training Accuracy: 99.70%, Validation Loss: 1.1197, Validation Accuracy: 72.77%\n",
      "Epoch 67/100, Training Loss: 0.0265, Training Accuracy: 99.76%, Validation Loss: 1.1297, Validation Accuracy: 73.73%\n",
      "Epoch 68/100, Training Loss: 0.0236, Training Accuracy: 99.82%, Validation Loss: 1.1239, Validation Accuracy: 74.22%\n",
      "Epoch 69/100, Training Loss: 0.0304, Training Accuracy: 99.52%, Validation Loss: 1.1081, Validation Accuracy: 73.01%\n",
      "Epoch 70/100, Training Loss: 0.0255, Training Accuracy: 99.76%, Validation Loss: 1.0937, Validation Accuracy: 73.98%\n",
      "Epoch 71/100, Training Loss: 0.0208, Training Accuracy: 99.76%, Validation Loss: 1.0923, Validation Accuracy: 74.22%\n"
     ]
    },
    {
     "name": "stdout",
     "output_type": "stream",
     "text": [
      "Epoch 72/100, Training Loss: 0.0210, Training Accuracy: 99.70%, Validation Loss: 1.1294, Validation Accuracy: 73.25%\n",
      "Epoch 73/100, Training Loss: 0.0244, Training Accuracy: 99.82%, Validation Loss: 1.1289, Validation Accuracy: 74.94%\n",
      "Epoch 74/100, Training Loss: 0.0220, Training Accuracy: 99.76%, Validation Loss: 1.1314, Validation Accuracy: 73.25%\n",
      "Epoch 75/100, Training Loss: 0.0241, Training Accuracy: 99.76%, Validation Loss: 1.1189, Validation Accuracy: 73.25%\n",
      "Epoch 76/100, Training Loss: 0.0184, Training Accuracy: 99.76%, Validation Loss: 1.1498, Validation Accuracy: 72.77%\n",
      "Epoch 77/100, Training Loss: 0.0232, Training Accuracy: 99.70%, Validation Loss: 1.1446, Validation Accuracy: 73.01%\n",
      "Epoch 78/100, Training Loss: 0.0251, Training Accuracy: 99.58%, Validation Loss: 1.1754, Validation Accuracy: 72.77%\n",
      "Epoch 79/100, Training Loss: 0.0156, Training Accuracy: 99.88%, Validation Loss: 1.2622, Validation Accuracy: 72.77%\n",
      "Epoch 80/100, Training Loss: 0.0215, Training Accuracy: 99.82%, Validation Loss: 1.2403, Validation Accuracy: 73.25%\n",
      "Epoch 81/100, Training Loss: 0.0164, Training Accuracy: 99.88%, Validation Loss: 1.1922, Validation Accuracy: 73.98%\n",
      "Epoch 82/100, Training Loss: 0.0209, Training Accuracy: 99.52%, Validation Loss: 1.1427, Validation Accuracy: 72.53%\n",
      "Epoch 83/100, Training Loss: 0.0180, Training Accuracy: 99.94%, Validation Loss: 1.1723, Validation Accuracy: 72.53%\n",
      "Epoch 84/100, Training Loss: 0.0185, Training Accuracy: 99.76%, Validation Loss: 1.2001, Validation Accuracy: 73.25%\n",
      "Epoch 85/100, Training Loss: 0.0171, Training Accuracy: 99.82%, Validation Loss: 1.1677, Validation Accuracy: 72.05%\n",
      "Epoch 86/100, Training Loss: 0.0194, Training Accuracy: 99.70%, Validation Loss: 1.1625, Validation Accuracy: 73.49%\n",
      "Epoch 87/100, Training Loss: 0.0191, Training Accuracy: 99.76%, Validation Loss: 1.1603, Validation Accuracy: 74.22%\n",
      "Epoch 88/100, Training Loss: 0.0187, Training Accuracy: 99.76%, Validation Loss: 1.1696, Validation Accuracy: 74.46%\n",
      "Epoch 89/100, Training Loss: 0.0179, Training Accuracy: 99.88%, Validation Loss: 1.2238, Validation Accuracy: 73.01%\n",
      "Epoch 90/100, Training Loss: 0.0116, Training Accuracy: 99.94%, Validation Loss: 1.3183, Validation Accuracy: 72.29%\n",
      "Epoch 91/100, Training Loss: 0.0121, Training Accuracy: 100.00%, Validation Loss: 1.2248, Validation Accuracy: 73.98%\n",
      "Epoch 92/100, Training Loss: 0.0099, Training Accuracy: 99.88%, Validation Loss: 1.2534, Validation Accuracy: 73.25%\n",
      "Epoch 93/100, Training Loss: 0.0126, Training Accuracy: 100.00%, Validation Loss: 1.2151, Validation Accuracy: 73.73%\n",
      "Epoch 94/100, Training Loss: 0.0108, Training Accuracy: 99.94%, Validation Loss: 1.2126, Validation Accuracy: 74.46%\n",
      "Epoch 95/100, Training Loss: 0.0107, Training Accuracy: 99.88%, Validation Loss: 1.1682, Validation Accuracy: 73.73%\n",
      "Epoch 96/100, Training Loss: 0.0101, Training Accuracy: 99.94%, Validation Loss: 1.2288, Validation Accuracy: 73.49%\n",
      "Epoch 97/100, Training Loss: 0.0125, Training Accuracy: 99.94%, Validation Loss: 1.1713, Validation Accuracy: 73.49%\n",
      "Epoch 98/100, Training Loss: 0.0149, Training Accuracy: 99.76%, Validation Loss: 1.1654, Validation Accuracy: 73.01%\n",
      "Epoch 99/100, Training Loss: 0.0139, Training Accuracy: 99.88%, Validation Loss: 1.1904, Validation Accuracy: 73.73%\n",
      "Epoch 100/100, Training Loss: 0.0110, Training Accuracy: 99.94%, Validation Loss: 1.2186, Validation Accuracy: 73.73%\n",
      "Finished Training\n"
     ]
    }
   ],
   "source": [
    "# train model and get training and validation losses\n",
    "train_losses, val_losses, train_accuracies, val_accuracies = train(model, optimizer, num_epochs=100)\n",
    "print('Finished Training')"
   ]
  },
  {
   "cell_type": "code",
   "execution_count": 17,
   "metadata": {},
   "outputs": [
    {
     "data": {
      "image/png": "[encoded data removed]",
      "text/plain": [
       "<Figure size 720x576 with 1 Axes>"
      ]
     },
     "metadata": {
      "needs_background": "light"
     },
     "output_type": "display_data"
    },
    {
     "data": {
      "image/png": "[encoded data removed]",
      "text/plain": [
       "<Figure size 720x576 with 1 Axes>"
      ]
     },
     "metadata": {
      "needs_background": "light"
     },
     "output_type": "display_data"
    }
   ],
   "source": [
    "def plots(train_losses, val_losses, train_accuracies, val_accuracies):\n",
    "    epochs = range(1, len(train_losses) + 1)\n",
    "\n",
    "    plt.subplot(1, 2, 1)\n",
    "    plt.plot(epochs, train_losses, label='Training Loss')\n",
    "    plt.plot(epochs, val_losses, label='Validation Loss')\n",
    "    plt.legend()\n",
    "    plt.title('Training and Validation Loss')\n",
    "    plt.xlabel('Epochs')\n",
    "    plt.ylabel('Loss')\n",
    "\n",
    "    plt.tight_layout()\n",
    "    plt.show()\n",
    "    \n",
    "    plt.subplot(1, 2, 2)\n",
    "    plt.plot(epochs, train_accuracies, label='Training Accuracy')\n",
    "    plt.plot(epochs, val_accuracies, label='Validation Accuracy')\n",
    "    plt.title('Training and Validation Accuracy')\n",
    "    plt.xlabel('Epochs')\n",
    "    plt.ylabel('Accuracy (%)')\n",
    "    plt.legend()\n",
    "\n",
    "    plt.tight_layout()\n",
    "    plt.show()\n",
    "\n",
    "# plot everything to check for overfitting\n",
    "plots(train_losses, val_losses, train_accuracies, val_accuracies)\n"
   ]
  },
  {
   "cell_type": "code",
   "execution_count": 18,
   "metadata": {},
   "outputs": [
    {
     "name": "stdout",
     "output_type": "stream",
     "text": [
      "Validation Set Accuracy\n",
      "Got 306 / 415 correct (73.73)\n"
     ]
    }
   ],
   "source": [
    "print('Validation Set Accuracy')\n",
    "testVal(val_loader, model)"
   ]
  },
  {
   "cell_type": "code",
   "execution_count": null,
   "metadata": {},
   "outputs": [],
   "source": []
  }
 ],
 "metadata": {
  "kernelspec": {
   "display_name": "Python 3 (ipykernel)",
   "language": "python",
   "name": "python3"
  },
  "language_info": {
   "codemirror_mode": {
    "name": "ipython",
    "version": 3
   },
   "file_extension": ".py",
   "mimetype": "text/x-python",
   "name": "python",
   "nbconvert_exporter": "python",
   "pygments_lexer": "ipython3",
   "version": "3.9.5"
  },
  "vscode": {
   "interpreter": {
    "hash": "1a1af0ee75eeea9e2e1ee996c87e7a2b11a0bebd85af04bb136d915cefc0abce"
   }
  }
 },
 "nbformat": 4,
 "nbformat_minor": 2
}
