{
 "cells": [
  {
   "cell_type": "markdown",
   "metadata": {},
   "source": [
    "# VGG-16\n"
   ]
  },
  {
   "cell_type": "code",
   "execution_count": 1,
   "metadata": {},
   "outputs": [],
   "source": [
    "# imports an stuff\n",
    "import torch\n",
    "import torch.nn as nn\n",
    "import torch.optim as optim\n",
    "from torchvision import datasets, transforms\n",
    "from torch.utils.data import DataLoader, random_split\n",
    "import torchvision\n",
    "\n",
    "import torch.nn.functional as F\n",
    "\n",
    "import numpy as np\n",
    "\n",
    "import matplotlib.pyplot as plt\n",
    "plt.rcParams[\"figure.figsize\"] = (10.0, 8.0)  # set default size of plots"
   ]
  },
  {
   "cell_type": "code",
   "execution_count": 2,
   "metadata": {},
   "outputs": [
    {
     "name": "stdout",
     "output_type": "stream",
     "text": [
      "Number of training samples: 1658\n",
      "Number of validation samples: 415\n"
     ]
    }
   ],
   "source": [
    "class RandomApplyTransform:\n",
    "    def __init__(self, transforms):\n",
    "        self.transforms = transforms\n",
    "\n",
    "    def __call__(self, img):\n",
    "        transform = choice(self.transforms)\n",
    "        return transform(img)\n",
    "    \n",
    "# transformations for the training data with augmentation\n",
    "train_transformations1 = transforms.Compose([\n",
    "    transforms.RandomResizedCrop(256, scale=(0.7, 1.0)),\n",
    "    transforms.Resize((256, 256)),\n",
    "    transforms.ToTensor(),\n",
    "    transforms.Normalize((0.5, 0.5, 0.5), (0.5, 0.5, 0.5))\n",
    "])\n",
    "\n",
    "train_transformations2 = transforms.Compose([\n",
    "    transforms.RandomResizedCrop(256, scale=(0.85, 1.0)),\n",
    "    transforms.ColorJitter(brightness=0.1, contrast=0.1, saturation=0.1, hue=0.05),\n",
    "    transforms.Resize((256, 256)),\n",
    "    transforms.ToTensor(),\n",
    "    transforms.Normalize((0.5, 0.5, 0.5), (0.5, 0.5, 0.5))\n",
    "])\n",
    "\n",
    "train_transformations3 = transforms.Compose([\n",
    "    transforms.RandomHorizontalFlip(),\n",
    "    transforms.RandomRotation(10),\n",
    "    transforms.ColorJitter(brightness=0.2, contrast=0.2, saturation=0.2, hue=0.1),\n",
    "    transforms.ToTensor(),\n",
    "    transforms.Normalize((0.5, 0.5, 0.5), (0.5, 0.5, 0.5))\n",
    "])\n",
    "\n",
    "# choose a random transformation\n",
    "train_transformations = RandomApplyTransform([train_transformations1, train_transformations2, train_transformations3])\n",
    "\n",
    "val_test_transformations = transforms.Compose([\n",
    "    transforms.ToTensor(), \n",
    "    transforms.Normalize((0.5, 0.5, 0.5), (0.5, 0.5, 0.5))\n",
    "])\n",
    "\n",
    "# batch size and number of labels\n",
    "batch_size = 64\n",
    "num_labels = 12\n",
    "\n",
    "# Directory with data\n",
    "dataset_path = '../data2'\n",
    "\n",
    "# Load dataset\n",
    "dataset = datasets.ImageFolder(root=dataset_path)\n",
    "\n",
    "# split data\n",
    "total_size = len(dataset)\n",
    "train_size = int(0.8 * total_size)\n",
    "val_size = total_size - train_size\n",
    "# split dataset\n",
    "train_dataset, val_dataset = random_split(dataset, [train_size, val_size])\n",
    "\n",
    "# apply transformations\n",
    "train_dataset.dataset.transform = train_transformations\n",
    "val_dataset.dataset.transform = val_test_transformations\n",
    "\n",
    "# create data loaders\n",
    "train_loader = DataLoader(train_dataset, batch_size=batch_size, shuffle=True)\n",
    "val_loader = DataLoader(val_dataset, batch_size=batch_size, shuffle=False)\n",
    "\n",
    "# display sizes\n",
    "print(f'Number of training samples: {len(train_dataset)}')\n",
    "print(f'Number of validation samples: {len(val_dataset)}')\n"
   ]
  },
  {
   "cell_type": "code",
   "execution_count": 3,
   "metadata": {},
   "outputs": [
    {
     "name": "stdout",
     "output_type": "stream",
     "text": [
      "using device: cuda\n"
     ]
    }
   ],
   "source": [
    "# check if GPU is available\n",
    "USE_GPU = True\n",
    "dtype = torch.float32\n",
    "\n",
    "if USE_GPU and torch.cuda.is_available():\n",
    "    device = torch.device('cuda')\n",
    "else:\n",
    "    device = torch.device('cpu')\n",
    "\n",
    "print('using device:', device)"
   ]
  },
  {
   "cell_type": "code",
   "execution_count": 4,
   "metadata": {},
   "outputs": [],
   "source": [
    "# test the model on the validation set\n",
    "def testVal(loader, model): \n",
    "    num_correct = 0\n",
    "    num_samples = 0\n",
    "    model.eval()  \n",
    "\n",
    "    with torch.no_grad():\n",
    "        for images, labels in loader:\n",
    "            images = images.to(device=device, dtype=dtype)\n",
    "            labels = labels.to(device=device, dtype=torch.long)\n",
    "            scores = model(images)\n",
    "            _, predicted = scores.max(1)\n",
    "            num_correct += (predicted == labels).sum()\n",
    "            num_samples += predicted.size(0)\n",
    "    \n",
    "        acc = float(num_correct) / num_samples\n",
    "        print('Got %d / %d correct (%.2f)' % (num_correct, num_samples, 100 * acc))"
   ]
  },
  {
   "cell_type": "code",
   "execution_count": 5,
   "metadata": {},
   "outputs": [],
   "source": [
    "def train(model, optimizer, num_epochs=1):\n",
    "    model = model.to(device)\n",
    "    train_losses = []\n",
    "    val_losses = []\n",
    "    train_accuracies = []\n",
    "    val_accuracies = []\n",
    "\n",
    "    for epoch in range(num_epochs):\n",
    "        model.train()\n",
    "        train_loss = 0.0\n",
    "        correct_train = 0\n",
    "        total_train = 0\n",
    "        \n",
    "        for images, labels in train_loader:\n",
    "            images = images.to(device=device, dtype=dtype)\n",
    "            labels = labels.to(device=device, dtype=torch.long)\n",
    "\n",
    "            optimizer.zero_grad()\n",
    "            scores = model(images)\n",
    "            loss = loss_fn(scores, labels)\n",
    "            loss.backward()\n",
    "            optimizer.step()\n",
    "\n",
    "            train_loss += loss.item()\n",
    "            _, predicted = scores.max(1)\n",
    "            total_train += labels.size(0)\n",
    "            correct_train += predicted.eq(labels).sum().item()\n",
    "\n",
    "        av_train_loss = train_loss / len(train_loader)\n",
    "        train_accuracy = 100. * correct_train / total_train\n",
    "        train_losses.append(av_train_loss)\n",
    "        train_accuracies.append(train_accuracy)\n",
    "\n",
    "        model.eval()\n",
    "        val_loss = 0.0\n",
    "        correct_val = 0\n",
    "        total_val = 0\n",
    "        with torch.no_grad():\n",
    "            for images, labels in val_loader:\n",
    "                images = images.to(device=device, dtype=dtype)\n",
    "                labels = labels.to(device=device, dtype=torch.long)\n",
    "                scores = model(images)\n",
    "                loss = loss_fn(scores, labels)\n",
    "                val_loss += loss.item()\n",
    "\n",
    "                _, predicted = scores.max(1)\n",
    "                total_val += labels.size(0)\n",
    "                correct_val += predicted.eq(labels).sum().item()\n",
    "\n",
    "        av_val_loss = val_loss / len(val_loader)\n",
    "        val_accuracy = 100. * correct_val / total_val\n",
    "        val_losses.append(av_val_loss)\n",
    "        val_accuracies.append(val_accuracy)\n",
    "\n",
    "        print(f'Epoch {epoch+1}/{num_epochs}, Training Loss: {av_train_loss:.4f}, Training Accuracy: {train_accuracy:.2f}%, Validation Loss: {av_val_loss:.4f}, Validation Accuracy: {val_accuracy:.2f}%')\n",
    "\n",
    "    return train_losses, val_losses, train_accuracies, val_accuracies\n"
   ]
  },
  {
   "cell_type": "code",
   "execution_count": 6,
   "metadata": {},
   "outputs": [],
   "source": [
    "class VGG16(nn.Module):\n",
    "    def __init__(self, num_classes):\n",
    "        super(VGG16, self).__init__()\n",
    "        self.features = nn.Sequential(\n",
    "            nn.Conv2d(3, 32, kernel_size=3, padding=1),\n",
    "            nn.BatchNorm2d(32),\n",
    "            nn.ReLU(),\n",
    "            nn.Conv2d(32, 32, kernel_size=3, padding=1),\n",
    "            nn.BatchNorm2d(32),\n",
    "            nn.ReLU(), \n",
    "            nn.MaxPool2d(kernel_size=2, stride=2),\n",
    "            nn.Conv2d(32, 64, kernel_size=3, padding=1),\n",
    "            nn.BatchNorm2d(64),\n",
    "            nn.ReLU(),\n",
    "            nn.Conv2d(64, 64, kernel_size=3, padding=1),\n",
    "            nn.BatchNorm2d(64),\n",
    "            nn.ReLU(),\n",
    "            nn.MaxPool2d(kernel_size=2, stride=2),\n",
    "            nn.Conv2d(64, 128, kernel_size=3, padding=1),\n",
    "            nn.BatchNorm2d(128),\n",
    "            nn.ReLU(),\n",
    "            nn.Conv2d(128, 128, kernel_size=3, padding=1),\n",
    "            nn.BatchNorm2d(128),\n",
    "            nn.ReLU(),\n",
    "            nn.Conv2d(128, 128, kernel_size=3, padding=1),\n",
    "            nn.BatchNorm2d(128),\n",
    "            nn.ReLU(),\n",
    "            nn.MaxPool2d(kernel_size=2, stride=2)\n",
    "        )\n",
    "\n",
    "        self.classifier = nn.Sequential(\n",
    "            nn.Dropout(0.6),\n",
    "            nn.Linear(128 * 32 * 32, 1024),  # Adjusted to correct input size\n",
    "            nn.ReLU(),\n",
    "            nn.Dropout(0.6),\n",
    "            nn.Linear(1024, 512),\n",
    "            nn.ReLU(),\n",
    "            nn.Dropout(0.6),\n",
    "            nn.Linear(512, num_classes)\n",
    "        )\n",
    "\n",
    "    def forward(self, x):\n",
    "        x = self.features(x)\n",
    "        x = x.view(x.size(0), -1)  # Flatten the output of conv layers\n",
    "        x = self.classifier(x)\n",
    "        return x\n",
    "\n",
    "model = VGG16(num_labels)\n",
    "loss_fn = nn.CrossEntropyLoss()\n",
    "optimizer = optim.Adam(model.parameters(), lr=1e-5, weight_decay=1e-3)"
   ]
  },
  {
   "cell_type": "code",
   "execution_count": 7,
   "metadata": {},
   "outputs": [
    {
     "name": "stdout",
     "output_type": "stream",
     "text": [
      "Epoch 1/100, Training Loss: 2.4851, Training Accuracy: 17.01%, Validation Loss: 2.4110, Validation Accuracy: 17.11%\n",
      "Epoch 2/100, Training Loss: 2.3068, Training Accuracy: 24.13%, Validation Loss: 2.1659, Validation Accuracy: 30.84%\n",
      "Epoch 3/100, Training Loss: 2.1609, Training Accuracy: 28.29%, Validation Loss: 2.0119, Validation Accuracy: 37.11%\n",
      "Epoch 4/100, Training Loss: 2.0053, Training Accuracy: 35.10%, Validation Loss: 1.8806, Validation Accuracy: 38.31%\n",
      "Epoch 5/100, Training Loss: 1.9225, Training Accuracy: 37.82%, Validation Loss: 1.8250, Validation Accuracy: 40.24%\n",
      "Epoch 6/100, Training Loss: 1.8044, Training Accuracy: 41.19%, Validation Loss: 1.7353, Validation Accuracy: 45.30%\n",
      "Epoch 7/100, Training Loss: 1.6965, Training Accuracy: 46.26%, Validation Loss: 1.6237, Validation Accuracy: 48.92%\n",
      "Epoch 8/100, Training Loss: 1.6205, Training Accuracy: 49.03%, Validation Loss: 1.5551, Validation Accuracy: 50.60%\n",
      "Epoch 9/100, Training Loss: 1.5410, Training Accuracy: 50.84%, Validation Loss: 1.5163, Validation Accuracy: 50.12%\n",
      "Epoch 10/100, Training Loss: 1.4955, Training Accuracy: 51.87%, Validation Loss: 1.4668, Validation Accuracy: 53.01%\n",
      "Epoch 11/100, Training Loss: 1.4277, Training Accuracy: 54.89%, Validation Loss: 1.4293, Validation Accuracy: 53.73%\n",
      "Epoch 12/100, Training Loss: 1.3518, Training Accuracy: 59.53%, Validation Loss: 1.3907, Validation Accuracy: 56.63%\n",
      "Epoch 13/100, Training Loss: 1.3339, Training Accuracy: 57.66%, Validation Loss: 1.3498, Validation Accuracy: 57.59%\n",
      "Epoch 14/100, Training Loss: 1.2264, Training Accuracy: 60.01%, Validation Loss: 1.3423, Validation Accuracy: 56.14%\n",
      "Epoch 15/100, Training Loss: 1.1959, Training Accuracy: 61.70%, Validation Loss: 1.3097, Validation Accuracy: 55.90%\n",
      "Epoch 16/100, Training Loss: 1.1602, Training Accuracy: 63.93%, Validation Loss: 1.2744, Validation Accuracy: 59.04%\n",
      "Epoch 17/100, Training Loss: 1.1180, Training Accuracy: 65.62%, Validation Loss: 1.2485, Validation Accuracy: 58.31%\n",
      "Epoch 18/100, Training Loss: 1.0715, Training Accuracy: 65.86%, Validation Loss: 1.2437, Validation Accuracy: 58.55%\n",
      "Epoch 19/100, Training Loss: 1.0211, Training Accuracy: 68.52%, Validation Loss: 1.2180, Validation Accuracy: 60.48%\n",
      "Epoch 20/100, Training Loss: 0.9796, Training Accuracy: 69.30%, Validation Loss: 1.1963, Validation Accuracy: 61.20%\n",
      "Epoch 21/100, Training Loss: 0.9489, Training Accuracy: 70.99%, Validation Loss: 1.1904, Validation Accuracy: 61.45%\n",
      "Epoch 22/100, Training Loss: 0.9203, Training Accuracy: 71.59%, Validation Loss: 1.1820, Validation Accuracy: 61.69%\n",
      "Epoch 23/100, Training Loss: 0.8761, Training Accuracy: 73.10%, Validation Loss: 1.1649, Validation Accuracy: 62.17%\n",
      "Epoch 24/100, Training Loss: 0.8512, Training Accuracy: 73.64%, Validation Loss: 1.1446, Validation Accuracy: 63.13%\n",
      "Epoch 25/100, Training Loss: 0.8224, Training Accuracy: 75.39%, Validation Loss: 1.1319, Validation Accuracy: 64.82%\n",
      "Epoch 26/100, Training Loss: 0.7841, Training Accuracy: 77.38%, Validation Loss: 1.1311, Validation Accuracy: 64.10%\n",
      "Epoch 27/100, Training Loss: 0.7429, Training Accuracy: 77.62%, Validation Loss: 1.1373, Validation Accuracy: 62.89%\n",
      "Epoch 28/100, Training Loss: 0.7364, Training Accuracy: 77.50%, Validation Loss: 1.1065, Validation Accuracy: 63.37%\n",
      "Epoch 29/100, Training Loss: 0.7132, Training Accuracy: 77.20%, Validation Loss: 1.0759, Validation Accuracy: 64.58%\n",
      "Epoch 30/100, Training Loss: 0.6851, Training Accuracy: 80.34%, Validation Loss: 1.0821, Validation Accuracy: 66.27%\n",
      "Epoch 31/100, Training Loss: 0.6478, Training Accuracy: 79.55%, Validation Loss: 1.0930, Validation Accuracy: 64.82%\n",
      "Epoch 32/100, Training Loss: 0.6097, Training Accuracy: 82.39%, Validation Loss: 1.0733, Validation Accuracy: 66.51%\n",
      "Epoch 33/100, Training Loss: 0.5941, Training Accuracy: 82.57%, Validation Loss: 1.0755, Validation Accuracy: 66.75%\n",
      "Epoch 34/100, Training Loss: 0.5564, Training Accuracy: 84.26%, Validation Loss: 1.0636, Validation Accuracy: 66.99%\n",
      "Epoch 35/100, Training Loss: 0.5275, Training Accuracy: 84.98%, Validation Loss: 1.0846, Validation Accuracy: 66.99%\n",
      "Epoch 36/100, Training Loss: 0.5208, Training Accuracy: 84.62%, Validation Loss: 1.0464, Validation Accuracy: 68.92%\n",
      "Epoch 37/100, Training Loss: 0.5025, Training Accuracy: 85.28%, Validation Loss: 1.0388, Validation Accuracy: 67.95%\n",
      "Epoch 38/100, Training Loss: 0.4757, Training Accuracy: 86.13%, Validation Loss: 1.0255, Validation Accuracy: 68.19%\n",
      "Epoch 39/100, Training Loss: 0.4397, Training Accuracy: 87.94%, Validation Loss: 1.0335, Validation Accuracy: 67.71%\n",
      "Epoch 40/100, Training Loss: 0.4078, Training Accuracy: 88.84%, Validation Loss: 1.0274, Validation Accuracy: 67.23%\n",
      "Epoch 41/100, Training Loss: 0.4203, Training Accuracy: 88.12%, Validation Loss: 1.0098, Validation Accuracy: 69.16%\n",
      "Epoch 42/100, Training Loss: 0.3954, Training Accuracy: 89.81%, Validation Loss: 1.0418, Validation Accuracy: 67.23%\n",
      "Epoch 43/100, Training Loss: 0.3705, Training Accuracy: 90.17%, Validation Loss: 1.0434, Validation Accuracy: 67.95%\n",
      "Epoch 44/100, Training Loss: 0.3501, Training Accuracy: 90.17%, Validation Loss: 1.0310, Validation Accuracy: 68.92%\n",
      "Epoch 45/100, Training Loss: 0.3310, Training Accuracy: 91.68%, Validation Loss: 1.0243, Validation Accuracy: 70.60%\n",
      "Epoch 46/100, Training Loss: 0.3266, Training Accuracy: 90.95%, Validation Loss: 1.0212, Validation Accuracy: 70.12%\n",
      "Epoch 47/100, Training Loss: 0.3127, Training Accuracy: 91.74%, Validation Loss: 1.0526, Validation Accuracy: 69.16%\n",
      "Epoch 48/100, Training Loss: 0.3157, Training Accuracy: 91.56%, Validation Loss: 1.0536, Validation Accuracy: 69.88%\n",
      "Epoch 49/100, Training Loss: 0.2918, Training Accuracy: 92.64%, Validation Loss: 1.0420, Validation Accuracy: 69.40%\n",
      "Epoch 50/100, Training Loss: 0.2824, Training Accuracy: 92.88%, Validation Loss: 1.0205, Validation Accuracy: 70.60%\n",
      "Epoch 51/100, Training Loss: 0.2588, Training Accuracy: 94.63%, Validation Loss: 1.0306, Validation Accuracy: 70.60%\n",
      "Epoch 52/100, Training Loss: 0.2371, Training Accuracy: 94.27%, Validation Loss: 1.1233, Validation Accuracy: 66.51%\n",
      "Epoch 53/100, Training Loss: 0.2390, Training Accuracy: 94.93%, Validation Loss: 1.0264, Validation Accuracy: 72.29%\n",
      "Epoch 54/100, Training Loss: 0.2372, Training Accuracy: 94.03%, Validation Loss: 1.0481, Validation Accuracy: 69.16%\n",
      "Epoch 55/100, Training Loss: 0.2373, Training Accuracy: 94.21%, Validation Loss: 1.0358, Validation Accuracy: 70.12%\n",
      "Epoch 56/100, Training Loss: 0.2130, Training Accuracy: 95.24%, Validation Loss: 1.0288, Validation Accuracy: 71.81%\n",
      "Epoch 57/100, Training Loss: 0.1976, Training Accuracy: 95.54%, Validation Loss: 1.0276, Validation Accuracy: 70.36%\n",
      "Epoch 58/100, Training Loss: 0.1808, Training Accuracy: 95.60%, Validation Loss: 1.0857, Validation Accuracy: 69.88%\n",
      "Epoch 59/100, Training Loss: 0.1696, Training Accuracy: 96.50%, Validation Loss: 1.0560, Validation Accuracy: 71.08%\n",
      "Epoch 60/100, Training Loss: 0.1672, Training Accuracy: 96.44%, Validation Loss: 1.0772, Validation Accuracy: 70.60%\n",
      "Epoch 61/100, Training Loss: 0.1581, Training Accuracy: 96.50%, Validation Loss: 1.0536, Validation Accuracy: 71.33%\n",
      "Epoch 62/100, Training Loss: 0.1705, Training Accuracy: 96.44%, Validation Loss: 1.0428, Validation Accuracy: 71.33%\n",
      "Epoch 63/100, Training Loss: 0.1533, Training Accuracy: 96.62%, Validation Loss: 1.0436, Validation Accuracy: 70.60%\n",
      "Epoch 64/100, Training Loss: 0.1577, Training Accuracy: 96.68%, Validation Loss: 1.0782, Validation Accuracy: 70.60%\n",
      "Epoch 65/100, Training Loss: 0.1475, Training Accuracy: 97.17%, Validation Loss: 1.0505, Validation Accuracy: 70.12%\n",
      "Epoch 66/100, Training Loss: 0.1326, Training Accuracy: 97.04%, Validation Loss: 1.0634, Validation Accuracy: 70.84%\n",
      "Epoch 67/100, Training Loss: 0.1552, Training Accuracy: 96.62%, Validation Loss: 1.0511, Validation Accuracy: 71.57%\n",
      "Epoch 68/100, Training Loss: 0.1163, Training Accuracy: 97.83%, Validation Loss: 1.0730, Validation Accuracy: 70.12%\n",
      "Epoch 69/100, Training Loss: 0.1158, Training Accuracy: 97.83%, Validation Loss: 1.0729, Validation Accuracy: 71.33%\n",
      "Epoch 70/100, Training Loss: 0.1079, Training Accuracy: 98.19%, Validation Loss: 1.0792, Validation Accuracy: 71.57%\n",
      "Epoch 71/100, Training Loss: 0.1193, Training Accuracy: 97.65%, Validation Loss: 1.0966, Validation Accuracy: 72.29%\n"
     ]
    },
    {
     "name": "stdout",
     "output_type": "stream",
     "text": [
      "Epoch 72/100, Training Loss: 0.1145, Training Accuracy: 97.71%, Validation Loss: 1.0493, Validation Accuracy: 72.05%\n",
      "Epoch 73/100, Training Loss: 0.1018, Training Accuracy: 97.83%, Validation Loss: 1.0812, Validation Accuracy: 71.57%\n",
      "Epoch 74/100, Training Loss: 0.1026, Training Accuracy: 98.31%, Validation Loss: 1.0927, Validation Accuracy: 70.60%\n",
      "Epoch 75/100, Training Loss: 0.0972, Training Accuracy: 98.43%, Validation Loss: 1.0825, Validation Accuracy: 71.08%\n",
      "Epoch 76/100, Training Loss: 0.0932, Training Accuracy: 98.13%, Validation Loss: 1.0922, Validation Accuracy: 72.29%\n",
      "Epoch 77/100, Training Loss: 0.0967, Training Accuracy: 98.31%, Validation Loss: 1.1072, Validation Accuracy: 71.33%\n",
      "Epoch 78/100, Training Loss: 0.0885, Training Accuracy: 98.85%, Validation Loss: 1.0786, Validation Accuracy: 72.05%\n",
      "Epoch 79/100, Training Loss: 0.0837, Training Accuracy: 98.61%, Validation Loss: 1.1323, Validation Accuracy: 70.60%\n",
      "Epoch 80/100, Training Loss: 0.0742, Training Accuracy: 98.91%, Validation Loss: 1.1119, Validation Accuracy: 70.60%\n",
      "Epoch 81/100, Training Loss: 0.0714, Training Accuracy: 98.67%, Validation Loss: 1.0870, Validation Accuracy: 70.84%\n",
      "Epoch 82/100, Training Loss: 0.0783, Training Accuracy: 98.13%, Validation Loss: 1.1248, Validation Accuracy: 70.84%\n",
      "Epoch 83/100, Training Loss: 0.0708, Training Accuracy: 98.73%, Validation Loss: 1.0941, Validation Accuracy: 71.57%\n",
      "Epoch 84/100, Training Loss: 0.0608, Training Accuracy: 99.16%, Validation Loss: 1.1340, Validation Accuracy: 71.08%\n",
      "Epoch 85/100, Training Loss: 0.0660, Training Accuracy: 98.79%, Validation Loss: 1.1739, Validation Accuracy: 71.08%\n",
      "Epoch 86/100, Training Loss: 0.0676, Training Accuracy: 99.10%, Validation Loss: 1.1088, Validation Accuracy: 71.33%\n",
      "Epoch 87/100, Training Loss: 0.0576, Training Accuracy: 99.34%, Validation Loss: 1.1248, Validation Accuracy: 72.53%\n",
      "Epoch 88/100, Training Loss: 0.0589, Training Accuracy: 99.10%, Validation Loss: 1.1223, Validation Accuracy: 72.05%\n",
      "Epoch 89/100, Training Loss: 0.0607, Training Accuracy: 99.10%, Validation Loss: 1.1089, Validation Accuracy: 71.57%\n",
      "Epoch 90/100, Training Loss: 0.0630, Training Accuracy: 98.73%, Validation Loss: 1.1532, Validation Accuracy: 70.84%\n",
      "Epoch 91/100, Training Loss: 0.0552, Training Accuracy: 99.10%, Validation Loss: 1.1425, Validation Accuracy: 70.84%\n",
      "Epoch 92/100, Training Loss: 0.0491, Training Accuracy: 99.46%, Validation Loss: 1.1775, Validation Accuracy: 70.60%\n",
      "Epoch 93/100, Training Loss: 0.0513, Training Accuracy: 99.34%, Validation Loss: 1.1785, Validation Accuracy: 71.08%\n",
      "Epoch 94/100, Training Loss: 0.0508, Training Accuracy: 99.34%, Validation Loss: 1.1599, Validation Accuracy: 70.84%\n",
      "Epoch 95/100, Training Loss: 0.0560, Training Accuracy: 99.10%, Validation Loss: 1.1492, Validation Accuracy: 72.29%\n",
      "Epoch 96/100, Training Loss: 0.0503, Training Accuracy: 99.16%, Validation Loss: 1.1613, Validation Accuracy: 71.57%\n",
      "Epoch 97/100, Training Loss: 0.0501, Training Accuracy: 99.03%, Validation Loss: 1.1910, Validation Accuracy: 71.33%\n",
      "Epoch 98/100, Training Loss: 0.0482, Training Accuracy: 99.22%, Validation Loss: 1.1542, Validation Accuracy: 71.57%\n",
      "Epoch 99/100, Training Loss: 0.0440, Training Accuracy: 99.28%, Validation Loss: 1.1623, Validation Accuracy: 71.08%\n",
      "Epoch 100/100, Training Loss: 0.0404, Training Accuracy: 99.52%, Validation Loss: 1.1360, Validation Accuracy: 72.29%\n",
      "Finished Training\n"
     ]
    }
   ],
   "source": [
    "# train model and get training and validation losses\n",
    "train_losses, val_losses, train_accuracies, val_accuracies = train(model, optimizer, num_epochs=100)\n",
    "print('Finished Training')"
   ]
  },
  {
   "cell_type": "code",
   "execution_count": 8,
   "metadata": {},
   "outputs": [
    {
     "data": {
      "image/png": "[encoded data removed]",
      "text/plain": [
       "<Figure size 720x576 with 1 Axes>"
      ]
     },
     "metadata": {
      "needs_background": "light"
     },
     "output_type": "display_data"
    },
    {
     "data": {
      "image/png": "[encoded data removed]",
      "text/plain": [
       "<Figure size 720x576 with 1 Axes>"
      ]
     },
     "metadata": {
      "needs_background": "light"
     },
     "output_type": "display_data"
    }
   ],
   "source": [
    "def plots(train_losses, val_losses, train_accuracies, val_accuracies):\n",
    "    epochs = range(1, len(train_losses) + 1)\n",
    "\n",
    "    plt.subplot(1, 2, 1)\n",
    "    plt.plot(epochs, train_losses, label='Training Loss')\n",
    "    plt.plot(epochs, val_losses, label='Validation Loss')\n",
    "    plt.legend()\n",
    "    plt.title('Training and Validation Loss')\n",
    "    plt.xlabel('Epochs')\n",
    "    plt.ylabel('Loss')\n",
    "\n",
    "    plt.tight_layout()\n",
    "    plt.show()\n",
    "    \n",
    "    plt.subplot(1, 2, 2)\n",
    "    plt.plot(epochs, train_accuracies, label='Training Accuracy')\n",
    "    plt.plot(epochs, val_accuracies, label='Validation Accuracy')\n",
    "    plt.title('Training and Validation Accuracy')\n",
    "    plt.xlabel('Epochs')\n",
    "    plt.ylabel('Accuracy (%)')\n",
    "    plt.legend()\n",
    "\n",
    "    plt.tight_layout()\n",
    "    plt.show()\n",
    "\n",
    "# plot everything to check for overfitting\n",
    "plots(train_losses, val_losses, train_accuracies, val_accuracies)\n"
   ]
  },
  {
   "cell_type": "code",
   "execution_count": 9,
   "metadata": {},
   "outputs": [
    {
     "name": "stdout",
     "output_type": "stream",
     "text": [
      "Validation Set Accuracy\n",
      "Got 300 / 415 correct (72.29)\n"
     ]
    }
   ],
   "source": [
    "print('Validation Set Accuracy')\n",
    "testVal(val_loader, model)"
   ]
  },
  {
   "cell_type": "code",
   "execution_count": 10,
   "metadata": {},
   "outputs": [],
   "source": [
    "model_scripted = torch.jit.script(model) # Export to TorchScript\n",
    "model_scripted.save(\"../Checkpoints/VGG16.pt\") # Save the model"
   ]
  },
  {
   "cell_type": "code",
   "execution_count": null,
   "metadata": {},
   "outputs": [],
   "source": []
  }
 ],
 "metadata": {
  "kernelspec": {
   "display_name": "Python 3 (ipykernel)",
   "language": "python",
   "name": "python3"
  },
  "language_info": {
   "codemirror_mode": {
    "name": "ipython",
    "version": 3
   },
   "file_extension": ".py",
   "mimetype": "text/x-python",
   "name": "python",
   "nbconvert_exporter": "python",
   "pygments_lexer": "ipython3",
   "version": "3.9.5"
  },
  "vscode": {
   "interpreter": {
    "hash": "1a1af0ee75eeea9e2e1ee996c87e7a2b11a0bebd85af04bb136d915cefc0abce"
   }
  }
 },
 "nbformat": 4,
 "nbformat_minor": 2
}
