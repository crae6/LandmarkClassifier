{
 "cells": [
  {
   "cell_type": "markdown",
   "metadata": {},
   "source": [
    "# VGG-16\n"
   ]
  },
  {
   "cell_type": "code",
   "execution_count": 1,
   "metadata": {},
   "outputs": [],
   "source": [
    "# imports an stuff\n",
    "import torch\n",
    "import torch.nn as nn\n",
    "import torch.optim as optim\n",
    "from torchvision import datasets, transforms\n",
    "from torch.utils.data import DataLoader, random_split\n",
    "import torchvision\n",
    "\n",
    "import torch.nn.functional as F\n",
    "\n",
    "import numpy as np\n",
    "\n",
    "import matplotlib.pyplot as plt\n",
    "plt.rcParams[\"figure.figsize\"] = (10.0, 8.0)  # set default size of plots"
   ]
  },
  {
   "cell_type": "code",
   "execution_count": 2,
   "metadata": {},
   "outputs": [
    {
     "name": "stdout",
     "output_type": "stream",
     "text": [
      "Number of training samples: 1451\n",
      "Number of validation samples: 622\n"
     ]
    }
   ],
   "source": [
    "# transformations for the training data with augmentation\n",
    "train_transformations = transforms.Compose([\n",
    "    transforms.RandomHorizontalFlip(), \n",
    "    transforms.RandomRotation(10), \n",
    "    transforms.ColorJitter(brightness=0.2, contrast=0.2, saturation=0.2, hue=0.1),\n",
    "    transforms.ToTensor(),\n",
    "    transforms.Normalize((0.5, 0.5, 0.5), (0.5, 0.5, 0.5))\n",
    "])\n",
    "\n",
    "val_test_transformations = transforms.Compose([\n",
    "    transforms.ToTensor(), \n",
    "    transforms.Normalize((0.5, 0.5, 0.5), (0.5, 0.5, 0.5))\n",
    "])\n",
    "\n",
    "# batch size and number of labels\n",
    "batch_size = 64\n",
    "num_labels = 12\n",
    "\n",
    "# Directory with data\n",
    "dataset_path = '../data2'\n",
    "\n",
    "# Load dataset\n",
    "dataset = datasets.ImageFolder(root=dataset_path)\n",
    "\n",
    "# split data\n",
    "total_size = len(dataset)\n",
    "train_size = int(0.7 * total_size)\n",
    "val_size = total_size - train_size\n",
    "# split dataset\n",
    "train_dataset, val_dataset = random_split(dataset, [train_size, val_size])\n",
    "\n",
    "# apply transformations\n",
    "train_dataset.dataset.transform = train_transformations\n",
    "val_dataset.dataset.transform = val_test_transformations\n",
    "\n",
    "# create data loaders\n",
    "train_loader = DataLoader(train_dataset, batch_size=batch_size, shuffle=True)\n",
    "val_loader = DataLoader(val_dataset, batch_size=batch_size, shuffle=False)\n",
    "\n",
    "# display sizes\n",
    "print(f'Number of training samples: {len(train_dataset)}')\n",
    "print(f'Number of validation samples: {len(val_dataset)}')"
   ]
  },
  {
   "cell_type": "code",
   "execution_count": 3,
   "metadata": {},
   "outputs": [
    {
     "name": "stdout",
     "output_type": "stream",
     "text": [
      "using device: cuda\n"
     ]
    }
   ],
   "source": [
    "# check if GPU is available\n",
    "USE_GPU = True\n",
    "dtype = torch.float32\n",
    "\n",
    "if USE_GPU and torch.cuda.is_available():\n",
    "    device = torch.device('cuda')\n",
    "else:\n",
    "    device = torch.device('cpu')\n",
    "\n",
    "print('using device:', device)"
   ]
  },
  {
   "cell_type": "code",
   "execution_count": 4,
   "metadata": {},
   "outputs": [],
   "source": [
    "# test the model on the validation set\n",
    "def testVal(loader, model): \n",
    "    num_correct = 0\n",
    "    num_samples = 0\n",
    "    model.eval()  \n",
    "\n",
    "    with torch.no_grad():\n",
    "        for images, labels in loader:\n",
    "            images = images.to(device=device, dtype=dtype)\n",
    "            labels = labels.to(device=device, dtype=torch.long)\n",
    "            scores = model(images)\n",
    "            _, predicted = scores.max(1)\n",
    "            num_correct += (predicted == labels).sum()\n",
    "            num_samples += predicted.size(0)\n",
    "    \n",
    "        acc = float(num_correct) / num_samples\n",
    "        print('Got %d / %d correct (%.2f)' % (num_correct, num_samples, 100 * acc))"
   ]
  },
  {
   "cell_type": "code",
   "execution_count": 5,
   "metadata": {},
   "outputs": [],
   "source": [
    "def train(model, optimizer, num_epochs=1):\n",
    "    model = model.to(device)\n",
    "    train_losses = []\n",
    "    val_losses = []\n",
    "    train_accuracies = []\n",
    "    val_accuracies = []\n",
    "\n",
    "    for epoch in range(num_epochs):\n",
    "        model.train()\n",
    "        train_loss = 0.0\n",
    "        correct_train = 0\n",
    "        total_train = 0\n",
    "        \n",
    "        for images, labels in train_loader:\n",
    "            images = images.to(device=device, dtype=dtype)\n",
    "            labels = labels.to(device=device, dtype=torch.long)\n",
    "\n",
    "            optimizer.zero_grad()\n",
    "            scores = model(images)\n",
    "            loss = loss_fn(scores, labels)\n",
    "            loss.backward()\n",
    "            optimizer.step()\n",
    "\n",
    "            train_loss += loss.item()\n",
    "            _, predicted = scores.max(1)\n",
    "            total_train += labels.size(0)\n",
    "            correct_train += predicted.eq(labels).sum().item()\n",
    "\n",
    "        av_train_loss = train_loss / len(train_loader)\n",
    "        train_accuracy = 100. * correct_train / total_train\n",
    "        train_losses.append(av_train_loss)\n",
    "        train_accuracies.append(train_accuracy)\n",
    "\n",
    "        model.eval()\n",
    "        val_loss = 0.0\n",
    "        correct_val = 0\n",
    "        total_val = 0\n",
    "        with torch.no_grad():\n",
    "            for images, labels in val_loader:\n",
    "                images = images.to(device=device, dtype=dtype)\n",
    "                labels = labels.to(device=device, dtype=torch.long)\n",
    "                scores = model(images)\n",
    "                loss = loss_fn(scores, labels)\n",
    "                val_loss += loss.item()\n",
    "\n",
    "                _, predicted = scores.max(1)\n",
    "                total_val += labels.size(0)\n",
    "                correct_val += predicted.eq(labels).sum().item()\n",
    "\n",
    "        av_val_loss = val_loss / len(val_loader)\n",
    "        val_accuracy = 100. * correct_val / total_val\n",
    "        val_losses.append(av_val_loss)\n",
    "        val_accuracies.append(val_accuracy)\n",
    "\n",
    "        print(f'Epoch {epoch+1}/{num_epochs}, Training Loss: {av_train_loss:.4f}, Training Accuracy: {train_accuracy:.2f}%, Validation Loss: {av_val_loss:.4f}, Validation Accuracy: {val_accuracy:.2f}%')\n",
    "\n",
    "    return train_losses, val_losses, train_accuracies, val_accuracies\n"
   ]
  },
  {
   "cell_type": "code",
   "execution_count": 8,
   "metadata": {},
   "outputs": [],
   "source": [
    "class VGG16(nn.Module):\n",
    "    def __init__(self, num_classes):\n",
    "        super(VGG16, self).__init__()\n",
    "        self.features = nn.Sequential(\n",
    "            nn.Conv2d(3, 32, kernel_size=3, padding=1),\n",
    "            nn.ReLU(),\n",
    "            nn.Conv2d(32, 32, kernel_size=3, padding=1),\n",
    "            nn.ReLU(), \n",
    "            nn.MaxPool2d(kernel_size=2, stride=2),\n",
    "            nn.Conv2d(32, 64, kernel_size=3, padding=1),\n",
    "            nn.ReLU(),\n",
    "            nn.Conv2d(64, 64, kernel_size=3, padding=1),\n",
    "            nn.ReLU(),\n",
    "            nn.MaxPool2d(kernel_size=2, stride=2),\n",
    "            nn.Conv2d(64, 128, kernel_size=3, padding=1),\n",
    "            nn.ReLU(),\n",
    "            nn.Conv2d(128, 128, kernel_size=3, padding=1),\n",
    "            nn.ReLU(),\n",
    "            nn.Conv2d(128, 128, kernel_size=3, padding=1),\n",
    "            nn.ReLU(),\n",
    "            nn.MaxPool2d(kernel_size=2, stride=2)\n",
    "        )\n",
    "\n",
    "        self.classifier = nn.Sequential(\n",
    "            nn.Dropout(0.5),\n",
    "            nn.Linear(128 * 32 * 32, 512),\n",
    "            nn.ReLU(),\n",
    "            nn.Dropout(0.5),\n",
    "            nn.Linear(512, num_classes)\n",
    "        )\n",
    "\n",
    "    def forward(self, x):\n",
    "        x = self.features(x)\n",
    "        x = x.view(-1, 128 * 32 * 32)\n",
    "        x = self.classifier(x)\n",
    "        return x\n",
    "        \n",
    "\n",
    "model = VGG16(num_labels)\n",
    "loss_fn = nn.CrossEntropyLoss()\n",
    "optimizer = optim.Adam(model.parameters(), lr=0.0001, weight_decay=1e-6)"
   ]
  },
  {
   "cell_type": "code",
   "execution_count": 9,
   "metadata": {},
   "outputs": [
    {
     "name": "stdout",
     "output_type": "stream",
     "text": [
      "Epoch 1/50, Training Loss: 2.4176, Training Accuracy: 18.33%, Validation Loss: 2.4227, Validation Accuracy: 15.59%\n",
      "Epoch 2/50, Training Loss: 2.3935, Training Accuracy: 19.30%, Validation Loss: 2.3842, Validation Accuracy: 15.59%\n",
      "Epoch 3/50, Training Loss: 2.2522, Training Accuracy: 25.16%, Validation Loss: 2.1185, Validation Accuracy: 33.92%\n",
      "Epoch 5/50, Training Loss: 1.9197, Training Accuracy: 37.49%, Validation Loss: 1.9094, Validation Accuracy: 39.39%\n",
      "Epoch 7/50, Training Loss: 1.6911, Training Accuracy: 47.14%, Validation Loss: 1.7077, Validation Accuracy: 45.66%\n",
      "Epoch 9/50, Training Loss: 1.4315, Training Accuracy: 55.20%, Validation Loss: 1.5381, Validation Accuracy: 51.61%\n",
      "Epoch 10/50, Training Loss: 1.3321, Training Accuracy: 58.17%, Validation Loss: 1.4651, Validation Accuracy: 52.89%\n",
      "Epoch 11/50, Training Loss: 1.2416, Training Accuracy: 61.54%, Validation Loss: 1.4297, Validation Accuracy: 56.27%\n",
      "Epoch 12/50, Training Loss: 1.1829, Training Accuracy: 63.06%, Validation Loss: 1.4204, Validation Accuracy: 55.63%\n",
      "Epoch 13/50, Training Loss: 1.0628, Training Accuracy: 65.95%, Validation Loss: 1.3971, Validation Accuracy: 57.07%\n",
      "Epoch 14/50, Training Loss: 0.9358, Training Accuracy: 68.78%, Validation Loss: 1.3751, Validation Accuracy: 60.13%\n",
      "Epoch 15/50, Training Loss: 0.8778, Training Accuracy: 71.05%, Validation Loss: 1.3490, Validation Accuracy: 59.00%\n",
      "Epoch 16/50, Training Loss: 0.7600, Training Accuracy: 76.02%, Validation Loss: 1.4732, Validation Accuracy: 60.45%\n",
      "Epoch 17/50, Training Loss: 0.6316, Training Accuracy: 79.53%, Validation Loss: 1.4049, Validation Accuracy: 62.38%\n",
      "Epoch 18/50, Training Loss: 0.5374, Training Accuracy: 82.77%, Validation Loss: 1.4338, Validation Accuracy: 60.61%\n",
      "Epoch 21/50, Training Loss: 0.3232, Training Accuracy: 89.18%, Validation Loss: 1.7001, Validation Accuracy: 60.13%\n",
      "Epoch 22/50, Training Loss: 0.2949, Training Accuracy: 89.39%, Validation Loss: 1.7066, Validation Accuracy: 60.93%\n",
      "Epoch 23/50, Training Loss: 0.2703, Training Accuracy: 90.08%, Validation Loss: 1.5340, Validation Accuracy: 60.93%\n",
      "Epoch 24/50, Training Loss: 0.2083, Training Accuracy: 93.11%, Validation Loss: 1.7720, Validation Accuracy: 62.70%\n",
      "Epoch 25/50, Training Loss: 0.1743, Training Accuracy: 93.66%, Validation Loss: 1.8827, Validation Accuracy: 62.06%\n",
      "Epoch 26/50, Training Loss: 0.1523, Training Accuracy: 94.90%, Validation Loss: 1.9137, Validation Accuracy: 61.58%\n",
      "Epoch 27/50, Training Loss: 0.1334, Training Accuracy: 94.90%, Validation Loss: 2.1856, Validation Accuracy: 61.41%\n",
      "Epoch 28/50, Training Loss: 0.1122, Training Accuracy: 96.21%, Validation Loss: 1.9400, Validation Accuracy: 62.54%\n",
      "Epoch 29/50, Training Loss: 0.0779, Training Accuracy: 97.59%, Validation Loss: 2.2511, Validation Accuracy: 61.90%\n",
      "Epoch 30/50, Training Loss: 0.1038, Training Accuracy: 96.42%, Validation Loss: 2.1401, Validation Accuracy: 62.70%\n",
      "Epoch 32/50, Training Loss: 0.0980, Training Accuracy: 96.62%, Validation Loss: 2.0953, Validation Accuracy: 63.02%\n",
      "Epoch 33/50, Training Loss: 0.0985, Training Accuracy: 97.11%, Validation Loss: 2.2511, Validation Accuracy: 61.09%\n",
      "Epoch 34/50, Training Loss: 0.0996, Training Accuracy: 96.83%, Validation Loss: 2.1368, Validation Accuracy: 63.18%\n",
      "Epoch 35/50, Training Loss: 0.1068, Training Accuracy: 96.69%, Validation Loss: 2.4024, Validation Accuracy: 60.29%\n",
      "Epoch 36/50, Training Loss: 0.0888, Training Accuracy: 97.04%, Validation Loss: 2.1868, Validation Accuracy: 62.38%\n",
      "Epoch 37/50, Training Loss: 0.0478, Training Accuracy: 98.90%, Validation Loss: 2.4562, Validation Accuracy: 61.90%\n",
      "Epoch 40/50, Training Loss: 0.0487, Training Accuracy: 98.41%, Validation Loss: 2.5196, Validation Accuracy: 62.86%\n",
      "Epoch 41/50, Training Loss: 0.0386, Training Accuracy: 98.55%, Validation Loss: 2.6387, Validation Accuracy: 62.86%\n",
      "Epoch 42/50, Training Loss: 0.0515, Training Accuracy: 98.14%, Validation Loss: 2.6004, Validation Accuracy: 63.99%\n",
      "Epoch 43/50, Training Loss: 0.0486, Training Accuracy: 98.55%, Validation Loss: 2.5783, Validation Accuracy: 63.02%\n",
      "Epoch 44/50, Training Loss: 0.0565, Training Accuracy: 98.14%, Validation Loss: 2.5698, Validation Accuracy: 62.22%\n",
      "Epoch 45/50, Training Loss: 0.0331, Training Accuracy: 98.83%, Validation Loss: 2.7666, Validation Accuracy: 60.45%\n",
      "Epoch 46/50, Training Loss: 0.0600, Training Accuracy: 98.21%, Validation Loss: 2.5210, Validation Accuracy: 63.18%\n",
      "Epoch 47/50, Training Loss: 0.0440, Training Accuracy: 98.69%, Validation Loss: 2.4820, Validation Accuracy: 63.83%\n",
      "Epoch 48/50, Training Loss: 0.0398, Training Accuracy: 98.62%, Validation Loss: 2.6746, Validation Accuracy: 62.38%\n",
      "Epoch 49/50, Training Loss: 0.0495, Training Accuracy: 98.21%, Validation Loss: 2.8383, Validation Accuracy: 61.58%\n",
      "Epoch 50/50, Training Loss: 0.0304, Training Accuracy: 98.76%, Validation Loss: 2.5175, Validation Accuracy: 63.34%\n",
      "Finished Training\n"
     ]
    }
   ],
   "source": [
    "# train model and get training and validation losses\n",
    "train_losses, val_losses, train_accuracies, val_accuracies = train(model, optimizer, num_epochs=50)\n",
    "print('Finished Training')"
   ]
  },
  {
   "cell_type": "code",
   "execution_count": 10,
   "metadata": {},
   "outputs": [
    {
     "data": {
      "image/png": "[encoded data removed]",
      "text/plain": [
       "<Figure size 720x576 with 1 Axes>"
      ]
     },
     "metadata": {
      "needs_background": "light"
     },
     "output_type": "display_data"
    },
    {
     "data": {
      "image/png": "[encoded data removed]",
      "text/plain": [
       "<Figure size 720x576 with 1 Axes>"
      ]
     },
     "metadata": {
      "needs_background": "light"
     },
     "output_type": "display_data"
    }
   ],
   "source": [
    "def plots(train_losses, val_losses, train_accuracies, val_accuracies):\n",
    "    epochs = range(1, len(train_losses) + 1)\n",
    "\n",
    "    plt.subplot(1, 2, 1)\n",
    "    plt.plot(epochs, train_losses, label='Training Loss')\n",
    "    plt.plot(epochs, val_losses, label='Validation Loss')\n",
    "    plt.legend()\n",
    "    plt.title('Training and Validation Loss')\n",
    "    plt.xlabel('Epochs')\n",
    "    plt.ylabel('Loss')\n",
    "\n",
    "    plt.tight_layout()\n",
    "    plt.show()\n",
    "    \n",
    "    plt.subplot(1, 2, 2)\n",
    "    plt.plot(epochs, train_accuracies, label='Training Accuracy')\n",
    "    plt.plot(epochs, val_accuracies, label='Validation Accuracy')\n",
    "    plt.title('Training and Validation Accuracy')\n",
    "    plt.xlabel('Epochs')\n",
    "    plt.ylabel('Accuracy (%)')\n",
    "    plt.legend()\n",
    "\n",
    "    plt.tight_layout()\n",
    "    plt.show()\n",
    "\n",
    "# plot everything to check for overfitting\n",
    "plots(train_losses, val_losses, train_accuracies, val_accuracies)\n"
   ]
  },
  {
   "cell_type": "code",
   "execution_count": 11,
   "metadata": {},
   "outputs": [
    {
     "name": "stdout",
     "output_type": "stream",
     "text": [
      "Validation Set Accuracy\n",
      "Got 394 / 622 correct (63.34)\n"
     ]
    }
   ],
   "source": [
    "print('Validation Set Accuracy')\n",
    "testVal(val_loader, model)"
   ]
  },
  {
   "cell_type": "code",
   "execution_count": null,
   "metadata": {},
   "outputs": [],
   "source": []
  }
 ],
 "metadata": {
  "kernelspec": {
   "display_name": "Python 3 (ipykernel)",
   "language": "python",
   "name": "python3"
  },
  "language_info": {
   "codemirror_mode": {
    "name": "ipython",
    "version": 3
   },
   "file_extension": ".py",
   "mimetype": "text/x-python",
   "name": "python",
   "nbconvert_exporter": "python",
   "pygments_lexer": "ipython3",
   "version": "3.9.5"
  },
  "vscode": {
   "interpreter": {
    "hash": "1a1af0ee75eeea9e2e1ee996c87e7a2b11a0bebd85af04bb136d915cefc0abce"
   }
  }
 },
 "nbformat": 4,
 "nbformat_minor": 2
}
