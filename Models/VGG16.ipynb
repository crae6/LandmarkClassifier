{
 "cells": [
  {
   "cell_type": "markdown",
   "metadata": {},
   "source": [
    "# VGG-16\n"
   ]
  },
  {
   "cell_type": "code",
   "execution_count": 21,
   "metadata": {},
   "outputs": [],
   "source": [
    "# imports an stuff\n",
    "import torch\n",
    "import torch.nn as nn\n",
    "import torch.optim as optim\n",
    "from torchvision import datasets, transforms\n",
    "from torch.utils.data import DataLoader, random_split\n",
    "import torchvision\n",
    "\n",
    "import torch.nn.functional as F\n",
    "\n",
    "import numpy as np\n",
    "\n",
    "import matplotlib.pyplot as plt\n",
    "plt.rcParams[\"figure.figsize\"] = (15.0, 6.0)  # set default size of plots"
   ]
  },
  {
   "cell_type": "code",
   "execution_count": 2,
   "metadata": {},
   "outputs": [
    {
     "name": "stdout",
     "output_type": "stream",
     "text": [
      "Number of training samples: 1658\n",
      "Number of validation samples: 415\n"
     ]
    }
   ],
   "source": [
    "class RandomTransform:\n",
    "    def __init__(self, transforms):\n",
    "        self.transforms = transforms\n",
    "\n",
    "    def __call__(self, img):\n",
    "        transform = choice(self.transforms)\n",
    "        return transform(img)\n",
    "    \n",
    "# transformations for the training data with augmentation\n",
    "train_transformations1 = transforms.Compose([\n",
    "    transforms.RandomResizedCrop(256, scale=(0.7, 1.0)),\n",
    "    transforms.Resize((256, 256)),\n",
    "    transforms.ToTensor(),\n",
    "    transforms.Normalize((0.5, 0.5, 0.5), (0.5, 0.5, 0.5))\n",
    "])\n",
    "\n",
    "train_transformations2 = transforms.Compose([\n",
    "    transforms.RandomResizedCrop(256, scale=(0.85, 1.0)),\n",
    "    transforms.ColorJitter(brightness=0.1, contrast=0.1, saturation=0.1, hue=0.05),\n",
    "    transforms.Resize((256, 256)),\n",
    "    transforms.ToTensor(),\n",
    "    transforms.Normalize((0.5, 0.5, 0.5), (0.5, 0.5, 0.5))\n",
    "])\n",
    "\n",
    "train_transformations3 = transforms.Compose([\n",
    "    transforms.RandomHorizontalFlip(),\n",
    "    transforms.RandomRotation(10),\n",
    "    transforms.ColorJitter(brightness=0.2, contrast=0.2, saturation=0.2, hue=0.1),\n",
    "    transforms.ToTensor(),\n",
    "    transforms.Normalize((0.5, 0.5, 0.5), (0.5, 0.5, 0.5))\n",
    "])\n",
    "\n",
    "# choose a random transformation\n",
    "train_transformations = RandomTransform([train_transformations1, train_transformations2, train_transformations3])\n",
    "\n",
    "val_test_transformations = transforms.Compose([\n",
    "    transforms.ToTensor(), \n",
    "    transforms.Normalize((0.5, 0.5, 0.5), (0.5, 0.5, 0.5))\n",
    "])\n",
    "\n",
    "# batch size and number of labels\n",
    "batch_size = 64\n",
    "num_labels = 12\n",
    "\n",
    "# Directory with data\n",
    "dataset_path = '../data2'\n",
    "\n",
    "# Load dataset\n",
    "dataset = datasets.ImageFolder(root=dataset_path)\n",
    "\n",
    "# split data\n",
    "total_size = len(dataset)\n",
    "train_size = int(0.8 * total_size)\n",
    "val_size = total_size - train_size\n",
    "# split dataset\n",
    "train_dataset, val_dataset = random_split(dataset, [train_size, val_size])\n",
    "\n",
    "# apply transformations\n",
    "train_dataset.dataset.transform = train_transformations\n",
    "val_dataset.dataset.transform = val_test_transformations\n",
    "\n",
    "# create data loaders\n",
    "train_loader = DataLoader(train_dataset, batch_size=batch_size, shuffle=True)\n",
    "val_loader = DataLoader(val_dataset, batch_size=batch_size, shuffle=False)\n",
    "\n",
    "# display sizes\n",
    "print(f'Number of training samples: {len(train_dataset)}')\n",
    "print(f'Number of validation samples: {len(val_dataset)}')\n"
   ]
  },
  {
   "cell_type": "code",
   "execution_count": 3,
   "metadata": {},
   "outputs": [
    {
     "name": "stdout",
     "output_type": "stream",
     "text": [
      "using device: cuda\n"
     ]
    }
   ],
   "source": [
    "# check if GPU is available\n",
    "USE_GPU = True\n",
    "dtype = torch.float32\n",
    "\n",
    "if USE_GPU and torch.cuda.is_available():\n",
    "    device = torch.device('cuda')\n",
    "else:\n",
    "    device = torch.device('cpu')\n",
    "\n",
    "print('using device:', device)"
   ]
  },
  {
   "cell_type": "code",
   "execution_count": 17,
   "metadata": {},
   "outputs": [],
   "source": [
    "# test the model on the validation set\n",
    "def testVal(loader, model): \n",
    "    model = model.to(device)\n",
    "    num_correct = 0\n",
    "    num_samples = 0\n",
    "    model.eval()  \n",
    "\n",
    "    with torch.no_grad():\n",
    "        for images, labels in loader:\n",
    "            images = images.to(device=device, dtype=dtype)\n",
    "            labels = labels.to(device=device, dtype=torch.long)\n",
    "            scores = model(images)\n",
    "            _, predicted = scores.max(1)\n",
    "            num_correct += (predicted == labels).sum()\n",
    "            num_samples += predicted.size(0)\n",
    "    \n",
    "        acc = float(num_correct) / num_samples\n",
    "        print('Got %d / %d correct (%.2f)' % (num_correct, num_samples, 100 * acc))"
   ]
  },
  {
   "cell_type": "code",
   "execution_count": 5,
   "metadata": {},
   "outputs": [],
   "source": [
    "def train(model, optimizer, num_epochs=1):\n",
    "    model = model.to(device)\n",
    "    train_losses = []\n",
    "    val_losses = []\n",
    "    train_accuracies = []\n",
    "    val_accuracies = []\n",
    "    count = 0;\n",
    "    best_val_loss = 1000;\n",
    "\n",
    "    for epoch in range(num_epochs):\n",
    "        model.train()\n",
    "        train_loss = 0.0\n",
    "        correct_train = 0\n",
    "        total_train = 0\n",
    "        \n",
    "        for images, labels in train_loader:\n",
    "            images = images.to(device=device, dtype=dtype)\n",
    "            labels = labels.to(device=device, dtype=torch.long)\n",
    "\n",
    "            optimizer.zero_grad()\n",
    "            scores = model(images)\n",
    "            loss = loss_fn(scores, labels)\n",
    "            loss.backward()\n",
    "            optimizer.step()\n",
    "\n",
    "            train_loss += loss.item()\n",
    "            _, predicted = scores.max(1)\n",
    "            total_train += labels.size(0)\n",
    "            correct_train += predicted.eq(labels).sum().item()\n",
    "\n",
    "        av_train_loss = train_loss / len(train_loader)\n",
    "        train_accuracy = 100. * correct_train / total_train\n",
    "        train_losses.append(av_train_loss)\n",
    "        train_accuracies.append(train_accuracy)\n",
    "\n",
    "        model.eval()\n",
    "        val_loss = 0.0\n",
    "        correct_val = 0\n",
    "        total_val = 0\n",
    "        with torch.no_grad():\n",
    "            for images, labels in val_loader:\n",
    "                images = images.to(device=device, dtype=dtype)\n",
    "                labels = labels.to(device=device, dtype=torch.long)\n",
    "                scores = model(images)\n",
    "                loss = loss_fn(scores, labels)\n",
    "                val_loss += loss.item()\n",
    "\n",
    "                _, predicted = scores.max(1)\n",
    "                total_val += labels.size(0)\n",
    "                correct_val += predicted.eq(labels).sum().item()\n",
    "\n",
    "        av_val_loss = val_loss / len(val_loader)\n",
    "        val_accuracy = 100. * correct_val / total_val\n",
    "        val_losses.append(av_val_loss)\n",
    "        val_accuracies.append(val_accuracy)\n",
    "        \n",
    "        if av_val_loss < best_val_loss:\n",
    "            best_val_loss = av_val_loss\n",
    "            count = 0\n",
    "        else:\n",
    "            count += 1\n",
    "\n",
    "        if count > 10:\n",
    "            print(\"Early stopping\")\n",
    "            break\n",
    "            \n",
    "        print(f'Epoch {epoch+1}/{num_epochs}, Training Loss: {av_train_loss:.4f}, Training Accuracy: {train_accuracy:.2f}%, Validation Loss: {av_val_loss:.4f}, Validation Accuracy: {val_accuracy:.2f}%')\n",
    "\n",
    "    return train_losses, val_losses, train_accuracies, val_accuracies\n"
   ]
  },
  {
   "cell_type": "code",
   "execution_count": 6,
   "metadata": {},
   "outputs": [],
   "source": [
    "class VGG16(nn.Module):\n",
    "    def __init__(self, num_classes):\n",
    "        super(VGG16, self).__init__()\n",
    "        self.features = nn.Sequential(\n",
    "            nn.Conv2d(3, 32, kernel_size=3, padding=1),\n",
    "            nn.BatchNorm2d(32),\n",
    "            nn.ReLU(),\n",
    "            nn.Conv2d(32, 32, kernel_size=3, padding=1),\n",
    "            nn.BatchNorm2d(32),\n",
    "            nn.ReLU(), \n",
    "            nn.MaxPool2d(kernel_size=2, stride=2),\n",
    "            nn.Conv2d(32, 64, kernel_size=3, padding=1),\n",
    "            nn.BatchNorm2d(64),\n",
    "            nn.ReLU(),\n",
    "            nn.Conv2d(64, 64, kernel_size=3, padding=1),\n",
    "            nn.BatchNorm2d(64),\n",
    "            nn.ReLU(),\n",
    "            nn.MaxPool2d(kernel_size=2, stride=2),\n",
    "            nn.Conv2d(64, 128, kernel_size=3, padding=1),\n",
    "            nn.BatchNorm2d(128),\n",
    "            nn.ReLU(),\n",
    "            nn.Conv2d(128, 128, kernel_size=3, padding=1),\n",
    "            nn.BatchNorm2d(128),\n",
    "            nn.ReLU(),\n",
    "            nn.Conv2d(128, 128, kernel_size=3, padding=1),\n",
    "            nn.BatchNorm2d(128),\n",
    "            nn.ReLU(),\n",
    "            nn.MaxPool2d(kernel_size=2, stride=2)\n",
    "        )\n",
    "\n",
    "        self.classifier = nn.Sequential(\n",
    "            nn.Dropout(0.6),\n",
    "            nn.Linear(128 * 32 * 32, 1024), \n",
    "            nn.ReLU(),\n",
    "            nn.Dropout(0.6),\n",
    "            nn.Linear(1024, 512),\n",
    "            nn.ReLU(),\n",
    "            nn.Dropout(0.6),\n",
    "            nn.Linear(512, num_classes)\n",
    "        )\n",
    "\n",
    "    def forward(self, x):\n",
    "        x = self.features(x)\n",
    "        x = x.view(x.size(0), -1) \n",
    "        x = self.classifier(x)\n",
    "        return x"
   ]
  },
  {
   "cell_type": "code",
   "execution_count": 12,
   "metadata": {},
   "outputs": [],
   "source": [
    "loss_fn = nn.CrossEntropyLoss()\n",
    "\n",
    "model = VGG16(num_labels)\n",
    "optimizer = optim.Adam(model.parameters(), lr=1e-5, weight_decay=1e-3)"
   ]
  },
  {
   "cell_type": "code",
   "execution_count": 13,
   "metadata": {},
   "outputs": [
    {
     "name": "stdout",
     "output_type": "stream",
     "text": [
      "Epoch 1/50, Training Loss: 2.4865, Training Accuracy: 13.87%, Validation Loss: 2.3763, Validation Accuracy: 21.93%\n",
      "Epoch 2/50, Training Loss: 2.3255, Training Accuracy: 22.26%, Validation Loss: 2.1373, Validation Accuracy: 33.25%\n",
      "Epoch 3/50, Training Loss: 2.1650, Training Accuracy: 29.25%, Validation Loss: 1.9709, Validation Accuracy: 41.69%\n",
      "Epoch 4/50, Training Loss: 2.0452, Training Accuracy: 34.14%, Validation Loss: 1.8573, Validation Accuracy: 41.93%\n",
      "Epoch 5/50, Training Loss: 1.9528, Training Accuracy: 36.85%, Validation Loss: 1.7621, Validation Accuracy: 45.54%\n",
      "Epoch 6/50, Training Loss: 1.8397, Training Accuracy: 41.56%, Validation Loss: 1.6899, Validation Accuracy: 47.71%\n",
      "Epoch 7/50, Training Loss: 1.7751, Training Accuracy: 42.46%, Validation Loss: 1.6226, Validation Accuracy: 48.92%\n",
      "Epoch 8/50, Training Loss: 1.6745, Training Accuracy: 48.55%, Validation Loss: 1.5537, Validation Accuracy: 50.60%\n",
      "Epoch 9/50, Training Loss: 1.6318, Training Accuracy: 48.73%, Validation Loss: 1.4959, Validation Accuracy: 53.49%\n",
      "Epoch 10/50, Training Loss: 1.5708, Training Accuracy: 50.18%, Validation Loss: 1.4447, Validation Accuracy: 57.59%\n",
      "Epoch 11/50, Training Loss: 1.5165, Training Accuracy: 52.65%, Validation Loss: 1.4094, Validation Accuracy: 57.35%\n",
      "Epoch 12/50, Training Loss: 1.4558, Training Accuracy: 54.83%, Validation Loss: 1.3434, Validation Accuracy: 59.28%\n",
      "Epoch 13/50, Training Loss: 1.3767, Training Accuracy: 57.84%, Validation Loss: 1.3176, Validation Accuracy: 59.04%\n",
      "Epoch 14/50, Training Loss: 1.3580, Training Accuracy: 56.88%, Validation Loss: 1.2858, Validation Accuracy: 61.20%\n",
      "Epoch 15/50, Training Loss: 1.3063, Training Accuracy: 59.77%, Validation Loss: 1.2563, Validation Accuracy: 63.13%\n",
      "Epoch 16/50, Training Loss: 1.2620, Training Accuracy: 60.55%, Validation Loss: 1.2089, Validation Accuracy: 65.30%\n",
      "Epoch 17/50, Training Loss: 1.1993, Training Accuracy: 63.63%, Validation Loss: 1.1733, Validation Accuracy: 64.34%\n",
      "Epoch 18/50, Training Loss: 1.1394, Training Accuracy: 64.29%, Validation Loss: 1.1575, Validation Accuracy: 63.86%\n",
      "Epoch 19/50, Training Loss: 1.1294, Training Accuracy: 64.66%, Validation Loss: 1.1472, Validation Accuracy: 64.34%\n",
      "Epoch 20/50, Training Loss: 1.0592, Training Accuracy: 67.01%, Validation Loss: 1.1071, Validation Accuracy: 65.54%\n",
      "Epoch 21/50, Training Loss: 1.0335, Training Accuracy: 68.64%, Validation Loss: 1.1122, Validation Accuracy: 65.54%\n",
      "Epoch 22/50, Training Loss: 1.0191, Training Accuracy: 67.97%, Validation Loss: 1.0784, Validation Accuracy: 67.47%\n",
      "Epoch 23/50, Training Loss: 0.9690, Training Accuracy: 69.54%, Validation Loss: 1.0535, Validation Accuracy: 68.67%\n",
      "Epoch 24/50, Training Loss: 0.9128, Training Accuracy: 72.56%, Validation Loss: 1.0424, Validation Accuracy: 67.95%\n",
      "Epoch 29/50, Training Loss: 0.7662, Training Accuracy: 77.08%, Validation Loss: 0.9795, Validation Accuracy: 70.36%\n",
      "Epoch 30/50, Training Loss: 0.7402, Training Accuracy: 77.26%, Validation Loss: 0.9669, Validation Accuracy: 71.08%\n",
      "Epoch 31/50, Training Loss: 0.6927, Training Accuracy: 78.83%, Validation Loss: 1.0013, Validation Accuracy: 68.19%\n",
      "Epoch 32/50, Training Loss: 0.7155, Training Accuracy: 78.17%, Validation Loss: 0.9571, Validation Accuracy: 71.33%\n",
      "Epoch 33/50, Training Loss: 0.6553, Training Accuracy: 79.79%, Validation Loss: 0.9430, Validation Accuracy: 71.08%\n",
      "Epoch 34/50, Training Loss: 0.6107, Training Accuracy: 81.66%, Validation Loss: 0.9587, Validation Accuracy: 72.05%\n",
      "Epoch 35/50, Training Loss: 0.6033, Training Accuracy: 82.81%, Validation Loss: 0.9374, Validation Accuracy: 71.08%\n",
      "Epoch 36/50, Training Loss: 0.5820, Training Accuracy: 84.44%, Validation Loss: 0.9363, Validation Accuracy: 74.22%\n",
      "Epoch 37/50, Training Loss: 0.5849, Training Accuracy: 82.03%, Validation Loss: 0.9305, Validation Accuracy: 71.33%\n",
      "Epoch 38/50, Training Loss: 0.5443, Training Accuracy: 84.14%, Validation Loss: 0.9322, Validation Accuracy: 72.53%\n",
      "Epoch 39/50, Training Loss: 0.4846, Training Accuracy: 86.13%, Validation Loss: 0.9255, Validation Accuracy: 73.49%\n",
      "Epoch 44/50, Training Loss: 0.3969, Training Accuracy: 90.35%, Validation Loss: 0.9228, Validation Accuracy: 71.08%\n",
      "Epoch 45/50, Training Loss: 0.3830, Training Accuracy: 89.38%, Validation Loss: 0.8935, Validation Accuracy: 72.77%\n",
      "Epoch 46/50, Training Loss: 0.3811, Training Accuracy: 89.93%, Validation Loss: 0.8843, Validation Accuracy: 72.77%\n",
      "Epoch 47/50, Training Loss: 0.3607, Training Accuracy: 90.29%, Validation Loss: 0.8832, Validation Accuracy: 73.01%\n",
      "Epoch 48/50, Training Loss: 0.3458, Training Accuracy: 91.38%, Validation Loss: 0.9028, Validation Accuracy: 73.25%\n",
      "Epoch 49/50, Training Loss: 0.3103, Training Accuracy: 92.70%, Validation Loss: 0.9115, Validation Accuracy: 71.81%\n",
      "Epoch 50/50, Training Loss: 0.3226, Training Accuracy: 91.80%, Validation Loss: 0.9236, Validation Accuracy: 73.01%\n",
      "Finished Training\n"
     ]
    }
   ],
   "source": [
    "# train model and get training and validation losses\n",
    "train_losses, val_losses, train_accuracies, val_accuracies = train(model, optimizer, num_epochs=50)\n",
    "print('Finished Training')"
   ]
  },
  {
   "cell_type": "code",
   "execution_count": 22,
   "metadata": {},
   "outputs": [
    {
     "data": {
      "image/png": "[encoded data removed]",
      "text/plain": [
       "<Figure size 1080x432 with 1 Axes>"
      ]
     },
     "metadata": {
      "needs_background": "light"
     },
     "output_type": "display_data"
    },
    {
     "data": {
      "image/png": "[encoded data removed]",
      "text/plain": [
       "<Figure size 1080x432 with 1 Axes>"
      ]
     },
     "metadata": {
      "needs_background": "light"
     },
     "output_type": "display_data"
    }
   ],
   "source": [
    "def plots(train_losses, val_losses, train_accuracies, val_accuracies):\n",
    "    epochs = range(1, len(train_losses) + 1)\n",
    "\n",
    "    plt.subplot(1, 2, 1)\n",
    "    plt.plot(epochs, train_losses, label='Training Loss')\n",
    "    plt.plot(epochs, val_losses, label='Validation Loss')\n",
    "    plt.legend()\n",
    "    plt.title('Training and Validation Loss')\n",
    "    plt.xlabel('Epochs')\n",
    "    plt.ylabel('Loss')\n",
    "\n",
    "    plt.tight_layout()\n",
    "    plt.show()\n",
    "    \n",
    "    plt.subplot(1, 2, 2)\n",
    "    plt.plot(epochs, train_accuracies, label='Training Accuracy')\n",
    "    plt.plot(epochs, val_accuracies, label='Validation Accuracy')\n",
    "    plt.title('Training and Validation Accuracy')\n",
    "    plt.xlabel('Epochs')\n",
    "    plt.ylabel('Accuracy (%)')\n",
    "    plt.legend()\n",
    "\n",
    "    plt.tight_layout()\n",
    "    plt.show()\n",
    "\n",
    "# plot everything to check for overfitting\n",
    "plots(train_losses, val_losses, train_accuracies, val_accuracies)\n"
   ]
  },
  {
   "cell_type": "code",
   "execution_count": 20,
   "metadata": {},
   "outputs": [
    {
     "name": "stdout",
     "output_type": "stream",
     "text": [
      "Validation Set Accuracy\n",
      "Got 303 / 415 correct (73.01)\n"
     ]
    }
   ],
   "source": [
    "print('Validation Set Accuracy')\n",
    "testVal(val_loader, model)"
   ]
  },
  {
   "cell_type": "code",
   "execution_count": 19,
   "metadata": {},
   "outputs": [],
   "source": [
    "model_scripted = torch.jit.script(model) # Export to TorchScript\n",
    "model_scripted.save(\"../Checkpoints/VGG16.pt\") # Save the model"
   ]
  }
 ],
 "metadata": {
  "kernelspec": {
   "display_name": "Python 3 (ipykernel)",
   "language": "python",
   "name": "python3"
  },
  "language_info": {
   "codemirror_mode": {
    "name": "ipython",
    "version": 3
   },
   "file_extension": ".py",
   "mimetype": "text/x-python",
   "name": "python",
   "nbconvert_exporter": "python",
   "pygments_lexer": "ipython3",
   "version": "3.9.5"
  },
  "vscode": {
   "interpreter": {
    "hash": "1a1af0ee75eeea9e2e1ee996c87e7a2b11a0bebd85af04bb136d915cefc0abce"
   }
  }
 },
 "nbformat": 4,
 "nbformat_minor": 2
}
